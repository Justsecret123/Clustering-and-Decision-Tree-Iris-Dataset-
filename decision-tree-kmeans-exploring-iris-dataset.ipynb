{
 "cells": [
  {
   "cell_type": "markdown",
   "id": "4ea317ac",
   "metadata": {
    "papermill": {
     "duration": 0.040779,
     "end_time": "2022-04-24T03:02:33.185706",
     "exception": false,
     "start_time": "2022-04-24T03:02:33.144927",
     "status": "completed"
    },
    "tags": []
   },
   "source": [
    "# Libraries "
   ]
  },
  {
   "cell_type": "code",
   "execution_count": 1,
   "id": "19a5c8fe",
   "metadata": {
    "_cell_guid": "b1076dfc-b9ad-4769-8c92-a6c4dae69d19",
    "_uuid": "8f2839f25d086af736a60e9eeb907d3b93b6e0e5",
    "execution": {
     "iopub.execute_input": "2022-04-24T03:02:33.281715Z",
     "iopub.status.busy": "2022-04-24T03:02:33.281067Z",
     "iopub.status.idle": "2022-04-24T03:02:34.736081Z",
     "shell.execute_reply": "2022-04-24T03:02:34.735220Z",
     "shell.execute_reply.started": "2022-04-24T02:49:40.641214Z"
    },
    "papermill": {
     "duration": 1.506374,
     "end_time": "2022-04-24T03:02:34.736277",
     "exception": false,
     "start_time": "2022-04-24T03:02:33.229903",
     "status": "completed"
    },
    "tags": []
   },
   "outputs": [],
   "source": [
    "import os\n",
    "import numpy as np \n",
    "import pandas as pd \n",
    "import pandas as pd \n",
    "import matplotlib.pyplot as plt\n",
    "from sklearn.cluster import KMeans\n",
    "from sklearn import tree\n",
    "from sklearn.model_selection import train_test_split"
   ]
  },
  {
   "cell_type": "markdown",
   "id": "a3d865c0",
   "metadata": {
    "papermill": {
     "duration": 0.041257,
     "end_time": "2022-04-24T03:02:34.819960",
     "exception": false,
     "start_time": "2022-04-24T03:02:34.778703",
     "status": "completed"
    },
    "tags": []
   },
   "source": [
    "# Dataset import \n",
    "Import the dataset and set the column names"
   ]
  },
  {
   "cell_type": "code",
   "execution_count": 2,
   "id": "bf86b5eb",
   "metadata": {
    "execution": {
     "iopub.execute_input": "2022-04-24T03:02:34.907117Z",
     "iopub.status.busy": "2022-04-24T03:02:34.906345Z",
     "iopub.status.idle": "2022-04-24T03:02:34.952581Z",
     "shell.execute_reply": "2022-04-24T03:02:34.952023Z",
     "shell.execute_reply.started": "2022-04-24T02:49:40.880635Z"
    },
    "papermill": {
     "duration": 0.093408,
     "end_time": "2022-04-24T03:02:34.952739",
     "exception": false,
     "start_time": "2022-04-24T03:02:34.859331",
     "status": "completed"
    },
    "tags": []
   },
   "outputs": [
    {
     "data": {
      "text/html": [
       "<div>\n",
       "<style scoped>\n",
       "    .dataframe tbody tr th:only-of-type {\n",
       "        vertical-align: middle;\n",
       "    }\n",
       "\n",
       "    .dataframe tbody tr th {\n",
       "        vertical-align: top;\n",
       "    }\n",
       "\n",
       "    .dataframe thead th {\n",
       "        text-align: right;\n",
       "    }\n",
       "</style>\n",
       "<table border=\"1\" class=\"dataframe\">\n",
       "  <thead>\n",
       "    <tr style=\"text-align: right;\">\n",
       "      <th></th>\n",
       "      <th>sepal length</th>\n",
       "      <th>sepal width</th>\n",
       "      <th>petal length</th>\n",
       "      <th>petal width</th>\n",
       "      <th>class</th>\n",
       "    </tr>\n",
       "  </thead>\n",
       "  <tbody>\n",
       "    <tr>\n",
       "      <th>0</th>\n",
       "      <td>5.1</td>\n",
       "      <td>3.5</td>\n",
       "      <td>1.4</td>\n",
       "      <td>0.2</td>\n",
       "      <td>Iris-setosa</td>\n",
       "    </tr>\n",
       "    <tr>\n",
       "      <th>1</th>\n",
       "      <td>4.9</td>\n",
       "      <td>3.0</td>\n",
       "      <td>1.4</td>\n",
       "      <td>0.2</td>\n",
       "      <td>Iris-setosa</td>\n",
       "    </tr>\n",
       "    <tr>\n",
       "      <th>2</th>\n",
       "      <td>4.7</td>\n",
       "      <td>3.2</td>\n",
       "      <td>1.3</td>\n",
       "      <td>0.2</td>\n",
       "      <td>Iris-setosa</td>\n",
       "    </tr>\n",
       "    <tr>\n",
       "      <th>3</th>\n",
       "      <td>4.6</td>\n",
       "      <td>3.1</td>\n",
       "      <td>1.5</td>\n",
       "      <td>0.2</td>\n",
       "      <td>Iris-setosa</td>\n",
       "    </tr>\n",
       "    <tr>\n",
       "      <th>4</th>\n",
       "      <td>5.0</td>\n",
       "      <td>3.6</td>\n",
       "      <td>1.4</td>\n",
       "      <td>0.2</td>\n",
       "      <td>Iris-setosa</td>\n",
       "    </tr>\n",
       "    <tr>\n",
       "      <th>5</th>\n",
       "      <td>5.4</td>\n",
       "      <td>3.9</td>\n",
       "      <td>1.7</td>\n",
       "      <td>0.4</td>\n",
       "      <td>Iris-setosa</td>\n",
       "    </tr>\n",
       "    <tr>\n",
       "      <th>6</th>\n",
       "      <td>4.6</td>\n",
       "      <td>3.4</td>\n",
       "      <td>1.4</td>\n",
       "      <td>0.3</td>\n",
       "      <td>Iris-setosa</td>\n",
       "    </tr>\n",
       "    <tr>\n",
       "      <th>7</th>\n",
       "      <td>5.0</td>\n",
       "      <td>3.4</td>\n",
       "      <td>10.0</td>\n",
       "      <td>0.2</td>\n",
       "      <td>Iris-setosa</td>\n",
       "    </tr>\n",
       "    <tr>\n",
       "      <th>8</th>\n",
       "      <td>4.4</td>\n",
       "      <td>2.9</td>\n",
       "      <td>1.4</td>\n",
       "      <td>0.2</td>\n",
       "      <td>Iris-setosa</td>\n",
       "    </tr>\n",
       "    <tr>\n",
       "      <th>9</th>\n",
       "      <td>4.9</td>\n",
       "      <td>3.1</td>\n",
       "      <td>1.5</td>\n",
       "      <td>0.1</td>\n",
       "      <td>Iris-setosa</td>\n",
       "    </tr>\n",
       "  </tbody>\n",
       "</table>\n",
       "</div>"
      ],
      "text/plain": [
       "   sepal length  sepal width  petal length  petal width        class\n",
       "0           5.1          3.5           1.4          0.2  Iris-setosa\n",
       "1           4.9          3.0           1.4          0.2  Iris-setosa\n",
       "2           4.7          3.2           1.3          0.2  Iris-setosa\n",
       "3           4.6          3.1           1.5          0.2  Iris-setosa\n",
       "4           5.0          3.6           1.4          0.2  Iris-setosa\n",
       "5           5.4          3.9           1.7          0.4  Iris-setosa\n",
       "6           4.6          3.4           1.4          0.3  Iris-setosa\n",
       "7           5.0          3.4          10.0          0.2  Iris-setosa\n",
       "8           4.4          2.9           1.4          0.2  Iris-setosa\n",
       "9           4.9          3.1           1.5          0.1  Iris-setosa"
      ]
     },
     "execution_count": 2,
     "metadata": {},
     "output_type": "execute_result"
    }
   ],
   "source": [
    "dataset = pd.read_csv(\"/kaggle/input/iris-dataset/iris_data.csv\", \n",
    "                      header=None,\n",
    "                      names=[\"sepal length\",\"sepal width\",\"petal length\",\"petal width\",\"class\"])\n",
    "dataset.head(10)"
   ]
  },
  {
   "cell_type": "markdown",
   "id": "66afdd32",
   "metadata": {
    "papermill": {
     "duration": 0.039628,
     "end_time": "2022-04-24T03:02:35.032909",
     "exception": false,
     "start_time": "2022-04-24T03:02:34.993281",
     "status": "completed"
    },
    "tags": []
   },
   "source": [
    "# Data cleaning"
   ]
  },
  {
   "cell_type": "markdown",
   "id": "505bdeb3",
   "metadata": {
    "papermill": {
     "duration": 0.041705,
     "end_time": "2022-04-24T03:02:35.115679",
     "exception": false,
     "start_time": "2022-04-24T03:02:35.073974",
     "status": "completed"
    },
    "tags": []
   },
   "source": [
    "## Checking for blank values"
   ]
  },
  {
   "cell_type": "markdown",
   "id": "41a0706b",
   "metadata": {
    "papermill": {
     "duration": 0.041111,
     "end_time": "2022-04-24T03:02:35.196592",
     "exception": false,
     "start_time": "2022-04-24T03:02:35.155481",
     "status": "completed"
    },
    "tags": []
   },
   "source": [
    "### Sepal length"
   ]
  },
  {
   "cell_type": "code",
   "execution_count": 3,
   "id": "7e58898d",
   "metadata": {
    "execution": {
     "iopub.execute_input": "2022-04-24T03:02:35.282251Z",
     "iopub.status.busy": "2022-04-24T03:02:35.281567Z",
     "iopub.status.idle": "2022-04-24T03:02:35.291075Z",
     "shell.execute_reply": "2022-04-24T03:02:35.291746Z",
     "shell.execute_reply.started": "2022-04-24T02:49:41.022297Z"
    },
    "papermill": {
     "duration": 0.054555,
     "end_time": "2022-04-24T03:02:35.291937",
     "exception": false,
     "start_time": "2022-04-24T03:02:35.237382",
     "status": "completed"
    },
    "tags": []
   },
   "outputs": [
    {
     "name": "stdout",
     "output_type": "stream",
     "text": [
      "Number of missing sepal lengths:  3\n"
     ]
    }
   ],
   "source": [
    "null_sl = dataset[\"sepal length\"].isnull().sum()\n",
    "print(\"Number of missing sepal lengths: \", null_sl)"
   ]
  },
  {
   "cell_type": "markdown",
   "id": "85fb3ecb",
   "metadata": {
    "papermill": {
     "duration": 0.039902,
     "end_time": "2022-04-24T03:02:35.373433",
     "exception": false,
     "start_time": "2022-04-24T03:02:35.333531",
     "status": "completed"
    },
    "tags": []
   },
   "source": [
    "### Sepal width"
   ]
  },
  {
   "cell_type": "code",
   "execution_count": 4,
   "id": "2c93a2e6",
   "metadata": {
    "execution": {
     "iopub.execute_input": "2022-04-24T03:02:35.460361Z",
     "iopub.status.busy": "2022-04-24T03:02:35.459704Z",
     "iopub.status.idle": "2022-04-24T03:02:35.467428Z",
     "shell.execute_reply": "2022-04-24T03:02:35.466850Z",
     "shell.execute_reply.started": "2022-04-24T02:49:41.162017Z"
    },
    "papermill": {
     "duration": 0.052738,
     "end_time": "2022-04-24T03:02:35.467591",
     "exception": false,
     "start_time": "2022-04-24T03:02:35.414853",
     "status": "completed"
    },
    "tags": []
   },
   "outputs": [
    {
     "name": "stdout",
     "output_type": "stream",
     "text": [
      "Number of missing sepal widths:  3\n"
     ]
    }
   ],
   "source": [
    "null_sw = dataset[\"sepal width\"].isnull().sum()\n",
    "print(\"Number of missing sepal widths: \", null_sw)"
   ]
  },
  {
   "cell_type": "markdown",
   "id": "62602b07",
   "metadata": {
    "papermill": {
     "duration": 0.040618,
     "end_time": "2022-04-24T03:02:35.549725",
     "exception": false,
     "start_time": "2022-04-24T03:02:35.509107",
     "status": "completed"
    },
    "tags": []
   },
   "source": [
    "### Petal length"
   ]
  },
  {
   "cell_type": "code",
   "execution_count": 5,
   "id": "a91f5647",
   "metadata": {
    "execution": {
     "iopub.execute_input": "2022-04-24T03:02:35.638879Z",
     "iopub.status.busy": "2022-04-24T03:02:35.638146Z",
     "iopub.status.idle": "2022-04-24T03:02:35.642226Z",
     "shell.execute_reply": "2022-04-24T03:02:35.643038Z",
     "shell.execute_reply.started": "2022-04-24T02:49:41.302999Z"
    },
    "papermill": {
     "duration": 0.051798,
     "end_time": "2022-04-24T03:02:35.643231",
     "exception": false,
     "start_time": "2022-04-24T03:02:35.591433",
     "status": "completed"
    },
    "tags": []
   },
   "outputs": [
    {
     "name": "stdout",
     "output_type": "stream",
     "text": [
      "Number of missing petal lengths:  3\n"
     ]
    }
   ],
   "source": [
    "null_pl = dataset[\"petal length\"].isnull().sum()\n",
    "print(\"Number of missing petal lengths: \", null_pl)"
   ]
  },
  {
   "cell_type": "markdown",
   "id": "6170da0a",
   "metadata": {
    "papermill": {
     "duration": 0.041531,
     "end_time": "2022-04-24T03:02:35.725910",
     "exception": false,
     "start_time": "2022-04-24T03:02:35.684379",
     "status": "completed"
    },
    "tags": []
   },
   "source": [
    "### Petal width"
   ]
  },
  {
   "cell_type": "code",
   "execution_count": 6,
   "id": "d63da921",
   "metadata": {
    "execution": {
     "iopub.execute_input": "2022-04-24T03:02:35.814728Z",
     "iopub.status.busy": "2022-04-24T03:02:35.814015Z",
     "iopub.status.idle": "2022-04-24T03:02:35.820333Z",
     "shell.execute_reply": "2022-04-24T03:02:35.821008Z",
     "shell.execute_reply.started": "2022-04-24T02:49:41.427467Z"
    },
    "papermill": {
     "duration": 0.053205,
     "end_time": "2022-04-24T03:02:35.821192",
     "exception": false,
     "start_time": "2022-04-24T03:02:35.767987",
     "status": "completed"
    },
    "tags": []
   },
   "outputs": [
    {
     "name": "stdout",
     "output_type": "stream",
     "text": [
      "Number of missing petal widths:  2\n"
     ]
    }
   ],
   "source": [
    "null_pw = dataset[\"petal width\"].isnull().sum()\n",
    "print(\"Number of missing petal widths: \", null_pw)"
   ]
  },
  {
   "cell_type": "markdown",
   "id": "e6315cec",
   "metadata": {
    "papermill": {
     "duration": 0.040895,
     "end_time": "2022-04-24T03:02:35.904735",
     "exception": false,
     "start_time": "2022-04-24T03:02:35.863840",
     "status": "completed"
    },
    "tags": []
   },
   "source": [
    "### Classes "
   ]
  },
  {
   "cell_type": "code",
   "execution_count": 7,
   "id": "c8b766b0",
   "metadata": {
    "execution": {
     "iopub.execute_input": "2022-04-24T03:02:35.992087Z",
     "iopub.status.busy": "2022-04-24T03:02:35.991397Z",
     "iopub.status.idle": "2022-04-24T03:02:35.997189Z",
     "shell.execute_reply": "2022-04-24T03:02:35.997707Z",
     "shell.execute_reply.started": "2022-04-24T02:49:41.624390Z"
    },
    "papermill": {
     "duration": 0.050643,
     "end_time": "2022-04-24T03:02:35.997883",
     "exception": false,
     "start_time": "2022-04-24T03:02:35.947240",
     "status": "completed"
    },
    "tags": []
   },
   "outputs": [
    {
     "name": "stdout",
     "output_type": "stream",
     "text": [
      "Number of missing classes:  3\n"
     ]
    }
   ],
   "source": [
    "null_classes = dataset[\"class\"].isnull().sum()\n",
    "print(\"Number of missing classes: \", null_classes)"
   ]
  },
  {
   "cell_type": "markdown",
   "id": "04c124c5",
   "metadata": {
    "papermill": {
     "duration": 0.044159,
     "end_time": "2022-04-24T03:02:36.085720",
     "exception": false,
     "start_time": "2022-04-24T03:02:36.041561",
     "status": "completed"
    },
    "tags": []
   },
   "source": [
    "## Calculating means (Numeric fields)"
   ]
  },
  {
   "cell_type": "code",
   "execution_count": 8,
   "id": "2b0e64f1",
   "metadata": {
    "execution": {
     "iopub.execute_input": "2022-04-24T03:02:36.180597Z",
     "iopub.status.busy": "2022-04-24T03:02:36.179878Z",
     "iopub.status.idle": "2022-04-24T03:02:36.188991Z",
     "shell.execute_reply": "2022-04-24T03:02:36.188158Z",
     "shell.execute_reply.started": "2022-04-24T02:49:41.688832Z"
    },
    "papermill": {
     "duration": 0.058145,
     "end_time": "2022-04-24T03:02:36.189206",
     "exception": false,
     "start_time": "2022-04-24T03:02:36.131061",
     "status": "completed"
    },
    "tags": []
   },
   "outputs": [
    {
     "name": "stdout",
     "output_type": "stream",
     "text": [
      "Mean values for the respective fields: \n",
      "Sepal length: 5.908843537414968\n",
      "Sepal width: 3.138775510204083\n",
      "Petal length: 3.8367346938775535\n",
      "Petal width: 1.197297297297298\n"
     ]
    }
   ],
   "source": [
    "sl_means = np.mean(dataset[\"sepal length\"])\n",
    "sw_means = np.mean(dataset[\"sepal width\"])\n",
    "pl_means = np.mean(dataset[\"petal length\"])\n",
    "pw_means = np.mean(dataset[\"petal width\"])\n",
    "# Display the results\n",
    "print(f\"Mean values for the respective fields: \\nSepal length: {sl_means}\\nSepal width: {sw_means}\\nPetal length: {pl_means}\\nPetal width: {pw_means}\")"
   ]
  },
  {
   "cell_type": "markdown",
   "id": "5f25f249",
   "metadata": {
    "papermill": {
     "duration": 0.045037,
     "end_time": "2022-04-24T03:02:36.278289",
     "exception": false,
     "start_time": "2022-04-24T03:02:36.233252",
     "status": "completed"
    },
    "tags": []
   },
   "source": [
    "## Replacing null values by the mean (Numeric fields)"
   ]
  },
  {
   "cell_type": "code",
   "execution_count": 9,
   "id": "4e4c91ef",
   "metadata": {
    "execution": {
     "iopub.execute_input": "2022-04-24T03:02:36.371000Z",
     "iopub.status.busy": "2022-04-24T03:02:36.369951Z",
     "iopub.status.idle": "2022-04-24T03:02:36.380697Z",
     "shell.execute_reply": "2022-04-24T03:02:36.381230Z",
     "shell.execute_reply.started": "2022-04-24T02:49:41.772756Z"
    },
    "papermill": {
     "duration": 0.057955,
     "end_time": "2022-04-24T03:02:36.381406",
     "exception": false,
     "start_time": "2022-04-24T03:02:36.323451",
     "status": "completed"
    },
    "tags": []
   },
   "outputs": [],
   "source": [
    "dataset.loc[dataset[\"sepal length\"].isnull(),\"sepal length\"] = round(sl_means,1)\n",
    "dataset.loc[dataset[\"sepal width\"].isnull(),\"sepal width\"] = round(sw_means,1)\n",
    "dataset.loc[dataset[\"petal length\"].isnull(),\"petal length\"] = round(pl_means,1)\n",
    "dataset.loc[dataset[\"petal width\"].isnull(),\"petal width\"] = round(pw_means,1)"
   ]
  },
  {
   "cell_type": "markdown",
   "id": "bb4fab15",
   "metadata": {
    "papermill": {
     "duration": 0.042888,
     "end_time": "2022-04-24T03:02:36.469284",
     "exception": false,
     "start_time": "2022-04-24T03:02:36.426396",
     "status": "completed"
    },
    "tags": []
   },
   "source": [
    "### Results "
   ]
  },
  {
   "cell_type": "code",
   "execution_count": 10,
   "id": "4b8350a9",
   "metadata": {
    "execution": {
     "iopub.execute_input": "2022-04-24T03:02:36.558770Z",
     "iopub.status.busy": "2022-04-24T03:02:36.558048Z",
     "iopub.status.idle": "2022-04-24T03:02:36.564877Z",
     "shell.execute_reply": "2022-04-24T03:02:36.565405Z",
     "shell.execute_reply.started": "2022-04-24T02:49:41.880915Z"
    },
    "papermill": {
     "duration": 0.054243,
     "end_time": "2022-04-24T03:02:36.565601",
     "exception": false,
     "start_time": "2022-04-24T03:02:36.511358",
     "status": "completed"
    },
    "tags": []
   },
   "outputs": [
    {
     "data": {
      "text/plain": [
       "sepal length    0\n",
       "sepal width     0\n",
       "petal length    0\n",
       "petal width     0\n",
       "class           3\n",
       "dtype: int64"
      ]
     },
     "execution_count": 10,
     "metadata": {},
     "output_type": "execute_result"
    }
   ],
   "source": [
    "dataset.isnull().sum()"
   ]
  },
  {
   "cell_type": "markdown",
   "id": "3383223e",
   "metadata": {
    "papermill": {
     "duration": 0.042487,
     "end_time": "2022-04-24T03:02:36.650580",
     "exception": false,
     "start_time": "2022-04-24T03:02:36.608093",
     "status": "completed"
    },
    "tags": []
   },
   "source": [
    "## Discarding rows with a missing target value"
   ]
  },
  {
   "cell_type": "code",
   "execution_count": 11,
   "id": "89b7e6ce",
   "metadata": {
    "execution": {
     "iopub.execute_input": "2022-04-24T03:02:36.740846Z",
     "iopub.status.busy": "2022-04-24T03:02:36.740068Z",
     "iopub.status.idle": "2022-04-24T03:02:36.765173Z",
     "shell.execute_reply": "2022-04-24T03:02:36.765725Z",
     "shell.execute_reply.started": "2022-04-24T02:49:41.952116Z"
    },
    "papermill": {
     "duration": 0.072133,
     "end_time": "2022-04-24T03:02:36.765914",
     "exception": false,
     "start_time": "2022-04-24T03:02:36.693781",
     "status": "completed"
    },
    "tags": []
   },
   "outputs": [],
   "source": [
    "dataset = dataset.dropna()"
   ]
  },
  {
   "cell_type": "markdown",
   "id": "7609579c",
   "metadata": {
    "papermill": {
     "duration": 0.044174,
     "end_time": "2022-04-24T03:02:36.855862",
     "exception": false,
     "start_time": "2022-04-24T03:02:36.811688",
     "status": "completed"
    },
    "tags": []
   },
   "source": [
    "### Results"
   ]
  },
  {
   "cell_type": "code",
   "execution_count": 12,
   "id": "4433433f",
   "metadata": {
    "execution": {
     "iopub.execute_input": "2022-04-24T03:02:36.944827Z",
     "iopub.status.busy": "2022-04-24T03:02:36.943758Z",
     "iopub.status.idle": "2022-04-24T03:02:36.953778Z",
     "shell.execute_reply": "2022-04-24T03:02:36.954258Z",
     "shell.execute_reply.started": "2022-04-24T02:49:42.051945Z"
    },
    "papermill": {
     "duration": 0.056325,
     "end_time": "2022-04-24T03:02:36.954465",
     "exception": false,
     "start_time": "2022-04-24T03:02:36.898140",
     "status": "completed"
    },
    "tags": []
   },
   "outputs": [
    {
     "data": {
      "text/plain": [
       "sepal length    0\n",
       "sepal width     0\n",
       "petal length    0\n",
       "petal width     0\n",
       "class           0\n",
       "dtype: int64"
      ]
     },
     "execution_count": 12,
     "metadata": {},
     "output_type": "execute_result"
    }
   ],
   "source": [
    "dataset.isnull().sum()"
   ]
  },
  {
   "cell_type": "markdown",
   "id": "52d7801e",
   "metadata": {
    "execution": {
     "iopub.execute_input": "2021-08-13T03:30:30.142494Z",
     "iopub.status.busy": "2021-08-13T03:30:30.142081Z",
     "iopub.status.idle": "2021-08-13T03:30:30.146103Z",
     "shell.execute_reply": "2021-08-13T03:30:30.145251Z",
     "shell.execute_reply.started": "2021-08-13T03:30:30.142455Z"
    },
    "papermill": {
     "duration": 0.043063,
     "end_time": "2022-04-24T03:02:37.043138",
     "exception": false,
     "start_time": "2022-04-24T03:02:37.000075",
     "status": "completed"
    },
    "tags": []
   },
   "source": [
    "## Saving the new dataset (optional)"
   ]
  },
  {
   "cell_type": "code",
   "execution_count": 13,
   "id": "6835acd3",
   "metadata": {
    "execution": {
     "iopub.execute_input": "2022-04-24T03:02:37.132270Z",
     "iopub.status.busy": "2022-04-24T03:02:37.131256Z",
     "iopub.status.idle": "2022-04-24T03:02:37.140244Z",
     "shell.execute_reply": "2022-04-24T03:02:37.140829Z",
     "shell.execute_reply.started": "2022-04-24T02:49:42.171727Z"
    },
    "papermill": {
     "duration": 0.055191,
     "end_time": "2022-04-24T03:02:37.141011",
     "exception": false,
     "start_time": "2022-04-24T03:02:37.085820",
     "status": "completed"
    },
    "tags": []
   },
   "outputs": [],
   "source": [
    "dataset.to_csv(\"cleaned_dataset.csv\", index=False)"
   ]
  },
  {
   "cell_type": "markdown",
   "id": "26b60829",
   "metadata": {
    "papermill": {
     "duration": 0.050007,
     "end_time": "2022-04-24T03:02:37.235091",
     "exception": false,
     "start_time": "2022-04-24T03:02:37.185084",
     "status": "completed"
    },
    "tags": []
   },
   "source": [
    "# K-Means "
   ]
  },
  {
   "cell_type": "markdown",
   "id": "3521f975",
   "metadata": {
    "papermill": {
     "duration": 0.044325,
     "end_time": "2022-04-24T03:02:37.325689",
     "exception": false,
     "start_time": "2022-04-24T03:02:37.281364",
     "status": "completed"
    },
    "tags": []
   },
   "source": [
    "## Construct the dataset"
   ]
  },
  {
   "cell_type": "code",
   "execution_count": 14,
   "id": "0c286e04",
   "metadata": {
    "execution": {
     "iopub.execute_input": "2022-04-24T03:02:37.418975Z",
     "iopub.status.busy": "2022-04-24T03:02:37.417853Z",
     "iopub.status.idle": "2022-04-24T03:02:37.436213Z",
     "shell.execute_reply": "2022-04-24T03:02:37.435521Z",
     "shell.execute_reply.started": "2022-04-24T02:49:42.316242Z"
    },
    "papermill": {
     "duration": 0.067212,
     "end_time": "2022-04-24T03:02:37.436377",
     "exception": false,
     "start_time": "2022-04-24T03:02:37.369165",
     "status": "completed"
    },
    "tags": []
   },
   "outputs": [
    {
     "data": {
      "text/html": [
       "<div>\n",
       "<style scoped>\n",
       "    .dataframe tbody tr th:only-of-type {\n",
       "        vertical-align: middle;\n",
       "    }\n",
       "\n",
       "    .dataframe tbody tr th {\n",
       "        vertical-align: top;\n",
       "    }\n",
       "\n",
       "    .dataframe thead th {\n",
       "        text-align: right;\n",
       "    }\n",
       "</style>\n",
       "<table border=\"1\" class=\"dataframe\">\n",
       "  <thead>\n",
       "    <tr style=\"text-align: right;\">\n",
       "      <th></th>\n",
       "      <th>sepal length</th>\n",
       "      <th>sepal width</th>\n",
       "      <th>petal length</th>\n",
       "      <th>petal width</th>\n",
       "    </tr>\n",
       "  </thead>\n",
       "  <tbody>\n",
       "    <tr>\n",
       "      <th>0</th>\n",
       "      <td>5.1</td>\n",
       "      <td>3.5</td>\n",
       "      <td>1.4</td>\n",
       "      <td>0.2</td>\n",
       "    </tr>\n",
       "    <tr>\n",
       "      <th>1</th>\n",
       "      <td>4.9</td>\n",
       "      <td>3.0</td>\n",
       "      <td>1.4</td>\n",
       "      <td>0.2</td>\n",
       "    </tr>\n",
       "    <tr>\n",
       "      <th>2</th>\n",
       "      <td>4.7</td>\n",
       "      <td>3.2</td>\n",
       "      <td>1.3</td>\n",
       "      <td>0.2</td>\n",
       "    </tr>\n",
       "    <tr>\n",
       "      <th>3</th>\n",
       "      <td>4.6</td>\n",
       "      <td>3.1</td>\n",
       "      <td>1.5</td>\n",
       "      <td>0.2</td>\n",
       "    </tr>\n",
       "    <tr>\n",
       "      <th>4</th>\n",
       "      <td>5.0</td>\n",
       "      <td>3.6</td>\n",
       "      <td>1.4</td>\n",
       "      <td>0.2</td>\n",
       "    </tr>\n",
       "    <tr>\n",
       "      <th>5</th>\n",
       "      <td>5.4</td>\n",
       "      <td>3.9</td>\n",
       "      <td>1.7</td>\n",
       "      <td>0.4</td>\n",
       "    </tr>\n",
       "    <tr>\n",
       "      <th>6</th>\n",
       "      <td>4.6</td>\n",
       "      <td>3.4</td>\n",
       "      <td>1.4</td>\n",
       "      <td>0.3</td>\n",
       "    </tr>\n",
       "    <tr>\n",
       "      <th>7</th>\n",
       "      <td>5.0</td>\n",
       "      <td>3.4</td>\n",
       "      <td>10.0</td>\n",
       "      <td>0.2</td>\n",
       "    </tr>\n",
       "    <tr>\n",
       "      <th>8</th>\n",
       "      <td>4.4</td>\n",
       "      <td>2.9</td>\n",
       "      <td>1.4</td>\n",
       "      <td>0.2</td>\n",
       "    </tr>\n",
       "    <tr>\n",
       "      <th>9</th>\n",
       "      <td>4.9</td>\n",
       "      <td>3.1</td>\n",
       "      <td>1.5</td>\n",
       "      <td>0.1</td>\n",
       "    </tr>\n",
       "  </tbody>\n",
       "</table>\n",
       "</div>"
      ],
      "text/plain": [
       "   sepal length  sepal width  petal length  petal width\n",
       "0           5.1          3.5           1.4          0.2\n",
       "1           4.9          3.0           1.4          0.2\n",
       "2           4.7          3.2           1.3          0.2\n",
       "3           4.6          3.1           1.5          0.2\n",
       "4           5.0          3.6           1.4          0.2\n",
       "5           5.4          3.9           1.7          0.4\n",
       "6           4.6          3.4           1.4          0.3\n",
       "7           5.0          3.4          10.0          0.2\n",
       "8           4.4          2.9           1.4          0.2\n",
       "9           4.9          3.1           1.5          0.1"
      ]
     },
     "execution_count": 14,
     "metadata": {},
     "output_type": "execute_result"
    }
   ],
   "source": [
    "dataset_KMeans = dataset.drop(columns=[\"class\"])\n",
    "dataset_KMeans.head(10)"
   ]
  },
  {
   "cell_type": "markdown",
   "id": "41e670df",
   "metadata": {
    "papermill": {
     "duration": 0.044116,
     "end_time": "2022-04-24T03:02:37.526228",
     "exception": false,
     "start_time": "2022-04-24T03:02:37.482112",
     "status": "completed"
    },
    "tags": []
   },
   "source": [
    "## Model\n",
    "\n",
    "Parameters : \n",
    "- **n_clusters :** The number of clusters to form \n",
    "- **random_state :** The random number generated for centroid initialization\n",
    "\n",
    "Generating 2 clusters gave us the best model). However, feel free to experiment with new parameters. "
   ]
  },
  {
   "cell_type": "code",
   "execution_count": 15,
   "id": "3ad43f8c",
   "metadata": {
    "execution": {
     "iopub.execute_input": "2022-04-24T03:02:37.618875Z",
     "iopub.status.busy": "2022-04-24T03:02:37.618086Z",
     "iopub.status.idle": "2022-04-24T03:02:37.657526Z",
     "shell.execute_reply": "2022-04-24T03:02:37.658024Z",
     "shell.execute_reply.started": "2022-04-24T02:49:42.419534Z"
    },
    "papermill": {
     "duration": 0.088816,
     "end_time": "2022-04-24T03:02:37.658217",
     "exception": false,
     "start_time": "2022-04-24T03:02:37.569401",
     "status": "completed"
    },
    "tags": []
   },
   "outputs": [],
   "source": [
    "kmeans_model = KMeans(n_clusters=2, random_state=0, verbose=0).fit(dataset_KMeans)"
   ]
  },
  {
   "cell_type": "markdown",
   "id": "4f3844bd",
   "metadata": {
    "papermill": {
     "duration": 0.045925,
     "end_time": "2022-04-24T03:02:37.747863",
     "exception": false,
     "start_time": "2022-04-24T03:02:37.701938",
     "status": "completed"
    },
    "tags": []
   },
   "source": [
    "### Getting the labels"
   ]
  },
  {
   "cell_type": "code",
   "execution_count": 16,
   "id": "8e3faa2a",
   "metadata": {
    "execution": {
     "iopub.execute_input": "2022-04-24T03:02:37.840412Z",
     "iopub.status.busy": "2022-04-24T03:02:37.839689Z",
     "iopub.status.idle": "2022-04-24T03:02:37.843521Z",
     "shell.execute_reply": "2022-04-24T03:02:37.844049Z",
     "shell.execute_reply.started": "2022-04-24T02:49:42.500651Z"
    },
    "papermill": {
     "duration": 0.053084,
     "end_time": "2022-04-24T03:02:37.844269",
     "exception": false,
     "start_time": "2022-04-24T03:02:37.791185",
     "status": "completed"
    },
    "tags": []
   },
   "outputs": [],
   "source": [
    "labels = kmeans_model.labels_"
   ]
  },
  {
   "cell_type": "markdown",
   "id": "01606c58",
   "metadata": {
    "papermill": {
     "duration": 0.044198,
     "end_time": "2022-04-24T03:02:37.934801",
     "exception": false,
     "start_time": "2022-04-24T03:02:37.890603",
     "status": "completed"
    },
    "tags": []
   },
   "source": [
    "## Assigning the labels to our dataset"
   ]
  },
  {
   "cell_type": "code",
   "execution_count": 17,
   "id": "3a94479e",
   "metadata": {
    "execution": {
     "iopub.execute_input": "2022-04-24T03:02:38.030486Z",
     "iopub.status.busy": "2022-04-24T03:02:38.029751Z",
     "iopub.status.idle": "2022-04-24T03:02:38.047383Z",
     "shell.execute_reply": "2022-04-24T03:02:38.047923Z",
     "shell.execute_reply.started": "2022-04-24T02:49:42.591658Z"
    },
    "papermill": {
     "duration": 0.068995,
     "end_time": "2022-04-24T03:02:38.048118",
     "exception": false,
     "start_time": "2022-04-24T03:02:37.979123",
     "status": "completed"
    },
    "tags": []
   },
   "outputs": [
    {
     "data": {
      "text/html": [
       "<div>\n",
       "<style scoped>\n",
       "    .dataframe tbody tr th:only-of-type {\n",
       "        vertical-align: middle;\n",
       "    }\n",
       "\n",
       "    .dataframe tbody tr th {\n",
       "        vertical-align: top;\n",
       "    }\n",
       "\n",
       "    .dataframe thead th {\n",
       "        text-align: right;\n",
       "    }\n",
       "</style>\n",
       "<table border=\"1\" class=\"dataframe\">\n",
       "  <thead>\n",
       "    <tr style=\"text-align: right;\">\n",
       "      <th></th>\n",
       "      <th>sepal length</th>\n",
       "      <th>sepal width</th>\n",
       "      <th>petal length</th>\n",
       "      <th>petal width</th>\n",
       "      <th>cluster_kmeans</th>\n",
       "    </tr>\n",
       "  </thead>\n",
       "  <tbody>\n",
       "    <tr>\n",
       "      <th>0</th>\n",
       "      <td>5.1</td>\n",
       "      <td>3.5</td>\n",
       "      <td>1.4</td>\n",
       "      <td>0.2</td>\n",
       "      <td>0</td>\n",
       "    </tr>\n",
       "    <tr>\n",
       "      <th>1</th>\n",
       "      <td>4.9</td>\n",
       "      <td>3.0</td>\n",
       "      <td>1.4</td>\n",
       "      <td>0.2</td>\n",
       "      <td>0</td>\n",
       "    </tr>\n",
       "    <tr>\n",
       "      <th>2</th>\n",
       "      <td>4.7</td>\n",
       "      <td>3.2</td>\n",
       "      <td>1.3</td>\n",
       "      <td>0.2</td>\n",
       "      <td>0</td>\n",
       "    </tr>\n",
       "    <tr>\n",
       "      <th>3</th>\n",
       "      <td>4.6</td>\n",
       "      <td>3.1</td>\n",
       "      <td>1.5</td>\n",
       "      <td>0.2</td>\n",
       "      <td>0</td>\n",
       "    </tr>\n",
       "    <tr>\n",
       "      <th>4</th>\n",
       "      <td>5.0</td>\n",
       "      <td>3.6</td>\n",
       "      <td>1.4</td>\n",
       "      <td>0.2</td>\n",
       "      <td>0</td>\n",
       "    </tr>\n",
       "    <tr>\n",
       "      <th>5</th>\n",
       "      <td>5.4</td>\n",
       "      <td>3.9</td>\n",
       "      <td>1.7</td>\n",
       "      <td>0.4</td>\n",
       "      <td>0</td>\n",
       "    </tr>\n",
       "    <tr>\n",
       "      <th>6</th>\n",
       "      <td>4.6</td>\n",
       "      <td>3.4</td>\n",
       "      <td>1.4</td>\n",
       "      <td>0.3</td>\n",
       "      <td>0</td>\n",
       "    </tr>\n",
       "    <tr>\n",
       "      <th>7</th>\n",
       "      <td>5.0</td>\n",
       "      <td>3.4</td>\n",
       "      <td>10.0</td>\n",
       "      <td>0.2</td>\n",
       "      <td>1</td>\n",
       "    </tr>\n",
       "    <tr>\n",
       "      <th>8</th>\n",
       "      <td>4.4</td>\n",
       "      <td>2.9</td>\n",
       "      <td>1.4</td>\n",
       "      <td>0.2</td>\n",
       "      <td>0</td>\n",
       "    </tr>\n",
       "    <tr>\n",
       "      <th>9</th>\n",
       "      <td>4.9</td>\n",
       "      <td>3.1</td>\n",
       "      <td>1.5</td>\n",
       "      <td>0.1</td>\n",
       "      <td>0</td>\n",
       "    </tr>\n",
       "  </tbody>\n",
       "</table>\n",
       "</div>"
      ],
      "text/plain": [
       "   sepal length  sepal width  petal length  petal width  cluster_kmeans\n",
       "0           5.1          3.5           1.4          0.2               0\n",
       "1           4.9          3.0           1.4          0.2               0\n",
       "2           4.7          3.2           1.3          0.2               0\n",
       "3           4.6          3.1           1.5          0.2               0\n",
       "4           5.0          3.6           1.4          0.2               0\n",
       "5           5.4          3.9           1.7          0.4               0\n",
       "6           4.6          3.4           1.4          0.3               0\n",
       "7           5.0          3.4          10.0          0.2               1\n",
       "8           4.4          2.9           1.4          0.2               0\n",
       "9           4.9          3.1           1.5          0.1               0"
      ]
     },
     "execution_count": 17,
     "metadata": {},
     "output_type": "execute_result"
    }
   ],
   "source": [
    "dataset_KMeans[\"cluster_kmeans\"] = labels \n",
    "dataset_KMeans.head(10)"
   ]
  },
  {
   "cell_type": "markdown",
   "id": "7a56e321",
   "metadata": {
    "papermill": {
     "duration": 0.04525,
     "end_time": "2022-04-24T03:02:38.139270",
     "exception": false,
     "start_time": "2022-04-24T03:02:38.094020",
     "status": "completed"
    },
    "tags": []
   },
   "source": [
    "## Visualizing the results"
   ]
  },
  {
   "cell_type": "markdown",
   "id": "7ccea826",
   "metadata": {
    "papermill": {
     "duration": 0.047311,
     "end_time": "2022-04-24T03:02:38.232793",
     "exception": false,
     "start_time": "2022-04-24T03:02:38.185482",
     "status": "completed"
    },
    "tags": []
   },
   "source": [
    "### 2D Visualization"
   ]
  },
  {
   "cell_type": "code",
   "execution_count": 18,
   "id": "1093ab36",
   "metadata": {
    "execution": {
     "iopub.execute_input": "2022-04-24T03:02:38.328917Z",
     "iopub.status.busy": "2022-04-24T03:02:38.327864Z",
     "iopub.status.idle": "2022-04-24T03:02:38.658735Z",
     "shell.execute_reply": "2022-04-24T03:02:38.659199Z",
     "shell.execute_reply.started": "2022-04-24T02:49:42.699551Z"
    },
    "papermill": {
     "duration": 0.380657,
     "end_time": "2022-04-24T03:02:38.659391",
     "exception": false,
     "start_time": "2022-04-24T03:02:38.278734",
     "status": "completed"
    },
    "tags": []
   },
   "outputs": [
    {
     "data": {
      "image/png": "[encoded data removed]",
      "text/plain": [
       "<Figure size 720x288 with 2 Axes>"
      ]
     },
     "metadata": {
      "needs_background": "light"
     },
     "output_type": "display_data"
    }
   ],
   "source": [
    "# Create the figure\n",
    "plt.figure(figsize=(10,4))\n",
    "\n",
    "# Set the title for the left figure\n",
    "plt.subplot(1,2,1)\n",
    "plt.title(\"Visualizing KMeans : 2D (Sepal)\")\n",
    "# Set the horizontal labels\n",
    "plt.xlabel(\"Sepal length\")\n",
    "# Set the vertical labels\n",
    "plt.ylabel(\"Sepal width\")\n",
    "# Plot the data\n",
    "plt.scatter(\n",
    "            x=dataset_KMeans.to_numpy()[:,0],\n",
    "            y=dataset_KMeans.to_numpy()[:,1],\n",
    "            cmap=plt.get_cmap(\"winter\"), \n",
    "            c=labels)\n",
    "\n",
    "# Set the title for the right figure\n",
    "plt.subplot(1,2,2)\n",
    "plt.title(\"Visualizing KMeans : 2D (Petal)\")\n",
    "# Set the horizontal labels\n",
    "plt.xlabel(\"Petal length\")\n",
    "# Set the vertical labels\n",
    "plt.ylabel(\"Petal width\")\n",
    "# Plot the data\n",
    "plt.scatter(\n",
    "            x=dataset_KMeans.to_numpy()[:,2],\n",
    "            y=dataset_KMeans.to_numpy()[:,3],\n",
    "            cmap=plt.get_cmap(\"winter\"), \n",
    "            c=labels)\n",
    "\n",
    "plt.show()"
   ]
  },
  {
   "cell_type": "markdown",
   "id": "68bf5332",
   "metadata": {
    "papermill": {
     "duration": 0.046232,
     "end_time": "2022-04-24T03:02:38.751994",
     "exception": false,
     "start_time": "2022-04-24T03:02:38.705762",
     "status": "completed"
    },
    "tags": []
   },
   "source": [
    "### 3D Visualization\n",
    "Parameters : \n",
    "- **elev :** Elevation viewing angle \n",
    "- **azim :** Azimuthal viewing angle "
   ]
  },
  {
   "cell_type": "code",
   "execution_count": 19,
   "id": "e790a7e2",
   "metadata": {
    "execution": {
     "iopub.execute_input": "2022-04-24T03:02:38.853816Z",
     "iopub.status.busy": "2022-04-24T03:02:38.852705Z",
     "iopub.status.idle": "2022-04-24T03:02:38.856851Z",
     "shell.execute_reply": "2022-04-24T03:02:38.857388Z",
     "shell.execute_reply.started": "2022-04-24T02:49:42.987968Z"
    },
    "papermill": {
     "duration": 0.058157,
     "end_time": "2022-04-24T03:02:38.857604",
     "exception": false,
     "start_time": "2022-04-24T03:02:38.799447",
     "status": "completed"
    },
    "tags": []
   },
   "outputs": [],
   "source": [
    "# Import the 3D Viz module\n",
    "from mpl_toolkits.mplot3d import Axes3D"
   ]
  },
  {
   "cell_type": "code",
   "execution_count": 20,
   "id": "562fcc6c",
   "metadata": {
    "execution": {
     "iopub.execute_input": "2022-04-24T03:02:38.957935Z",
     "iopub.status.busy": "2022-04-24T03:02:38.956854Z",
     "iopub.status.idle": "2022-04-24T03:02:39.193159Z",
     "shell.execute_reply": "2022-04-24T03:02:39.191937Z",
     "shell.execute_reply.started": "2022-04-24T02:49:42.994480Z"
    },
    "papermill": {
     "duration": 0.287959,
     "end_time": "2022-04-24T03:02:39.193332",
     "exception": false,
     "start_time": "2022-04-24T03:02:38.905373",
     "status": "completed"
    },
    "tags": []
   },
   "outputs": [
    {
     "data": {
      "image/png": "[encoded data removed]",
      "text/plain": [
       "<Figure size 432x360 with 1 Axes>"
      ]
     },
     "metadata": {
      "needs_background": "light"
     },
     "output_type": "display_data"
    }
   ],
   "source": [
    "# Create the figure\n",
    "fig = plt.figure(1,figsize=(6,5))\n",
    "\n",
    "# Create the 3D axis\n",
    "ax = Axes3D(fig, \n",
    "            rect=[0, 0, .95, 1], \n",
    "            elev=30, \n",
    "            azim=130, \n",
    "            auto_add_to_figure=False)\n",
    "\n",
    "# Set the labels \n",
    "ax.set_xlabel(\"Sepal length\")\n",
    "ax.set_ylabel(\"Sepal width\")\n",
    "ax.set_zlabel(\"Petal area\")\n",
    "\n",
    "# Create the visual (petal area = petal width * petal length)\n",
    "ax.scatter(dataset_KMeans.to_numpy()[:,0], \n",
    "           dataset_KMeans.to_numpy()[:,1], \n",
    "           dataset_KMeans.to_numpy()[:,2] * dataset_KMeans.to_numpy()[:,3],\n",
    "           cmap=plt.get_cmap(\"winter\"), \n",
    "           c=labels)\n",
    "\n",
    "# Add the plot to the figure\n",
    "fig.add_axes(ax)\n",
    "\n",
    "plt.title(\"Visualizing K-Means: 3D\")\n",
    "plt.show()"
   ]
  },
  {
   "cell_type": "markdown",
   "id": "90c5b1d6",
   "metadata": {
    "papermill": {
     "duration": 0.050851,
     "end_time": "2022-04-24T03:02:39.295491",
     "exception": false,
     "start_time": "2022-04-24T03:02:39.244640",
     "status": "completed"
    },
    "tags": []
   },
   "source": [
    "# Decision Tree"
   ]
  },
  {
   "cell_type": "markdown",
   "id": "f5eb30e9",
   "metadata": {
    "papermill": {
     "duration": 0.051645,
     "end_time": "2022-04-24T03:02:39.398757",
     "exception": false,
     "start_time": "2022-04-24T03:02:39.347112",
     "status": "completed"
    },
    "tags": []
   },
   "source": [
    "### Defining X (input) and Y (target)\n",
    "\n",
    "- **X =** independent variables  ---> **input**\n",
    "- **Y =** dependent variable (target) ---> **output**, what we're trying to predict"
   ]
  },
  {
   "cell_type": "markdown",
   "id": "c45a0ad3",
   "metadata": {
    "papermill": {
     "duration": 0.047863,
     "end_time": "2022-04-24T03:02:39.496045",
     "exception": false,
     "start_time": "2022-04-24T03:02:39.448182",
     "status": "completed"
    },
    "tags": []
   },
   "source": [
    "### X  = sepal length, sepal width, petal length, petal width"
   ]
  },
  {
   "cell_type": "code",
   "execution_count": 21,
   "id": "aa2b970a",
   "metadata": {
    "execution": {
     "iopub.execute_input": "2022-04-24T03:02:39.600561Z",
     "iopub.status.busy": "2022-04-24T03:02:39.599499Z",
     "iopub.status.idle": "2022-04-24T03:02:39.606930Z",
     "shell.execute_reply": "2022-04-24T03:02:39.607492Z",
     "shell.execute_reply.started": "2022-04-24T02:49:43.209059Z"
    },
    "papermill": {
     "duration": 0.062914,
     "end_time": "2022-04-24T03:02:39.607684",
     "exception": false,
     "start_time": "2022-04-24T03:02:39.544770",
     "status": "completed"
    },
    "tags": []
   },
   "outputs": [
    {
     "data": {
      "text/plain": [
       "array([[5.1, 3.5, 1.4, 0.2],\n",
       "       [4.9, 3. , 1.4, 0.2],\n",
       "       [4.7, 3.2, 1.3, 0.2],\n",
       "       [4.6, 3.1, 1.5, 0.2],\n",
       "       [5. , 3.6, 1.4, 0.2]])"
      ]
     },
     "execution_count": 21,
     "metadata": {},
     "output_type": "execute_result"
    }
   ],
   "source": [
    "X = dataset_KMeans.to_numpy()[:,0:4]\n",
    "X[0:5,:]"
   ]
  },
  {
   "cell_type": "markdown",
   "id": "db22c80a",
   "metadata": {
    "papermill": {
     "duration": 0.049244,
     "end_time": "2022-04-24T03:02:39.705266",
     "exception": false,
     "start_time": "2022-04-24T03:02:39.656022",
     "status": "completed"
    },
    "tags": []
   },
   "source": [
    "### Y = class"
   ]
  },
  {
   "cell_type": "code",
   "execution_count": 22,
   "id": "fe3964b7",
   "metadata": {
    "execution": {
     "iopub.execute_input": "2022-04-24T03:02:39.811588Z",
     "iopub.status.busy": "2022-04-24T03:02:39.810474Z",
     "iopub.status.idle": "2022-04-24T03:02:39.817560Z",
     "shell.execute_reply": "2022-04-24T03:02:39.818139Z",
     "shell.execute_reply.started": "2022-04-24T02:49:43.218245Z"
    },
    "papermill": {
     "duration": 0.063437,
     "end_time": "2022-04-24T03:02:39.818357",
     "exception": false,
     "start_time": "2022-04-24T03:02:39.754920",
     "status": "completed"
    },
    "tags": []
   },
   "outputs": [
    {
     "data": {
      "text/plain": [
       "array([0., 0., 0., 0., 0., 0., 0., 1., 0., 0.])"
      ]
     },
     "execution_count": 22,
     "metadata": {},
     "output_type": "execute_result"
    }
   ],
   "source": [
    "Y = dataset_KMeans.to_numpy()[:,4]\n",
    "Y[0:10]"
   ]
  },
  {
   "cell_type": "markdown",
   "id": "bb6c09f7",
   "metadata": {
    "papermill": {
     "duration": 0.049557,
     "end_time": "2022-04-24T03:02:39.920351",
     "exception": false,
     "start_time": "2022-04-24T03:02:39.870794",
     "status": "completed"
    },
    "tags": []
   },
   "source": [
    "### Train/test split\n",
    "In our case, 60% for the training set and 40% for validation. However, feel free to experiment other values. "
   ]
  },
  {
   "cell_type": "code",
   "execution_count": 23,
   "id": "85d5a007",
   "metadata": {
    "execution": {
     "iopub.execute_input": "2022-04-24T03:02:40.028161Z",
     "iopub.status.busy": "2022-04-24T03:02:40.027392Z",
     "iopub.status.idle": "2022-04-24T03:02:40.030186Z",
     "shell.execute_reply": "2022-04-24T03:02:40.030787Z",
     "shell.execute_reply.started": "2022-04-24T02:49:43.235406Z"
    },
    "papermill": {
     "duration": 0.059344,
     "end_time": "2022-04-24T03:02:40.031005",
     "exception": false,
     "start_time": "2022-04-24T03:02:39.971661",
     "status": "completed"
    },
    "tags": []
   },
   "outputs": [],
   "source": [
    "X_train, X_test, Y_train, Y_test = train_test_split(X, Y, test_size=0.4, random_state=0)"
   ]
  },
  {
   "cell_type": "markdown",
   "id": "081b647d",
   "metadata": {
    "papermill": {
     "duration": 0.049182,
     "end_time": "2022-04-24T03:02:40.132778",
     "exception": false,
     "start_time": "2022-04-24T03:02:40.083596",
     "status": "completed"
    },
    "tags": []
   },
   "source": [
    "## Applying the Decision Tree"
   ]
  },
  {
   "cell_type": "markdown",
   "id": "04680f00",
   "metadata": {
    "papermill": {
     "duration": 0.050751,
     "end_time": "2022-04-24T03:02:40.235114",
     "exception": false,
     "start_time": "2022-04-24T03:02:40.184363",
     "status": "completed"
    },
    "tags": []
   },
   "source": [
    "### Fitting the model"
   ]
  },
  {
   "cell_type": "code",
   "execution_count": 24,
   "id": "34b6c7e2",
   "metadata": {
    "execution": {
     "iopub.execute_input": "2022-04-24T03:02:40.347170Z",
     "iopub.status.busy": "2022-04-24T03:02:40.346420Z",
     "iopub.status.idle": "2022-04-24T03:02:40.354013Z",
     "shell.execute_reply": "2022-04-24T03:02:40.354630Z",
     "shell.execute_reply.started": "2022-04-24T02:49:43.252468Z"
    },
    "papermill": {
     "duration": 0.067177,
     "end_time": "2022-04-24T03:02:40.354825",
     "exception": false,
     "start_time": "2022-04-24T03:02:40.287648",
     "status": "completed"
    },
    "tags": []
   },
   "outputs": [],
   "source": [
    "DT_model = tree.DecisionTreeClassifier(random_state=0).fit(X_train,Y_train)"
   ]
  },
  {
   "cell_type": "markdown",
   "id": "3c2934d1",
   "metadata": {
    "papermill": {
     "duration": 0.048253,
     "end_time": "2022-04-24T03:02:40.454970",
     "exception": false,
     "start_time": "2022-04-24T03:02:40.406717",
     "status": "completed"
    },
    "tags": []
   },
   "source": [
    "### Predict the results"
   ]
  },
  {
   "cell_type": "code",
   "execution_count": 25,
   "id": "1baf4923",
   "metadata": {
    "execution": {
     "iopub.execute_input": "2022-04-24T03:02:40.560111Z",
     "iopub.status.busy": "2022-04-24T03:02:40.559379Z",
     "iopub.status.idle": "2022-04-24T03:02:40.563723Z",
     "shell.execute_reply": "2022-04-24T03:02:40.564289Z",
     "shell.execute_reply.started": "2022-04-24T02:49:43.409397Z"
    },
    "papermill": {
     "duration": 0.05811,
     "end_time": "2022-04-24T03:02:40.564483",
     "exception": false,
     "start_time": "2022-04-24T03:02:40.506373",
     "status": "completed"
    },
    "tags": []
   },
   "outputs": [],
   "source": [
    "DT_classes = DT_model.predict(X)"
   ]
  },
  {
   "cell_type": "markdown",
   "id": "ff60bc5b",
   "metadata": {
    "papermill": {
     "duration": 0.047813,
     "end_time": "2022-04-24T03:02:40.662548",
     "exception": false,
     "start_time": "2022-04-24T03:02:40.614735",
     "status": "completed"
    },
    "tags": []
   },
   "source": [
    "### Displaying the results "
   ]
  },
  {
   "cell_type": "code",
   "execution_count": 26,
   "id": "fb4105d4",
   "metadata": {
    "execution": {
     "iopub.execute_input": "2022-04-24T03:02:40.766112Z",
     "iopub.status.busy": "2022-04-24T03:02:40.765396Z",
     "iopub.status.idle": "2022-04-24T03:02:40.783723Z",
     "shell.execute_reply": "2022-04-24T03:02:40.784334Z",
     "shell.execute_reply.started": "2022-04-24T02:49:43.496849Z"
    },
    "papermill": {
     "duration": 0.072298,
     "end_time": "2022-04-24T03:02:40.784541",
     "exception": false,
     "start_time": "2022-04-24T03:02:40.712243",
     "status": "completed"
    },
    "tags": []
   },
   "outputs": [
    {
     "data": {
      "text/html": [
       "<div>\n",
       "<style scoped>\n",
       "    .dataframe tbody tr th:only-of-type {\n",
       "        vertical-align: middle;\n",
       "    }\n",
       "\n",
       "    .dataframe tbody tr th {\n",
       "        vertical-align: top;\n",
       "    }\n",
       "\n",
       "    .dataframe thead th {\n",
       "        text-align: right;\n",
       "    }\n",
       "</style>\n",
       "<table border=\"1\" class=\"dataframe\">\n",
       "  <thead>\n",
       "    <tr style=\"text-align: right;\">\n",
       "      <th></th>\n",
       "      <th>sepal length</th>\n",
       "      <th>sepal width</th>\n",
       "      <th>petal length</th>\n",
       "      <th>petal width</th>\n",
       "      <th>cluster_kmeans</th>\n",
       "      <th>DT_class</th>\n",
       "    </tr>\n",
       "  </thead>\n",
       "  <tbody>\n",
       "    <tr>\n",
       "      <th>0</th>\n",
       "      <td>5.1</td>\n",
       "      <td>3.5</td>\n",
       "      <td>1.4</td>\n",
       "      <td>0.2</td>\n",
       "      <td>0</td>\n",
       "      <td>0</td>\n",
       "    </tr>\n",
       "    <tr>\n",
       "      <th>1</th>\n",
       "      <td>4.9</td>\n",
       "      <td>3.0</td>\n",
       "      <td>1.4</td>\n",
       "      <td>0.2</td>\n",
       "      <td>0</td>\n",
       "      <td>0</td>\n",
       "    </tr>\n",
       "    <tr>\n",
       "      <th>2</th>\n",
       "      <td>4.7</td>\n",
       "      <td>3.2</td>\n",
       "      <td>1.3</td>\n",
       "      <td>0.2</td>\n",
       "      <td>0</td>\n",
       "      <td>0</td>\n",
       "    </tr>\n",
       "    <tr>\n",
       "      <th>3</th>\n",
       "      <td>4.6</td>\n",
       "      <td>3.1</td>\n",
       "      <td>1.5</td>\n",
       "      <td>0.2</td>\n",
       "      <td>0</td>\n",
       "      <td>0</td>\n",
       "    </tr>\n",
       "    <tr>\n",
       "      <th>4</th>\n",
       "      <td>5.0</td>\n",
       "      <td>3.6</td>\n",
       "      <td>1.4</td>\n",
       "      <td>0.2</td>\n",
       "      <td>0</td>\n",
       "      <td>0</td>\n",
       "    </tr>\n",
       "    <tr>\n",
       "      <th>5</th>\n",
       "      <td>5.4</td>\n",
       "      <td>3.9</td>\n",
       "      <td>1.7</td>\n",
       "      <td>0.4</td>\n",
       "      <td>0</td>\n",
       "      <td>0</td>\n",
       "    </tr>\n",
       "    <tr>\n",
       "      <th>6</th>\n",
       "      <td>4.6</td>\n",
       "      <td>3.4</td>\n",
       "      <td>1.4</td>\n",
       "      <td>0.3</td>\n",
       "      <td>0</td>\n",
       "      <td>0</td>\n",
       "    </tr>\n",
       "    <tr>\n",
       "      <th>7</th>\n",
       "      <td>5.0</td>\n",
       "      <td>3.4</td>\n",
       "      <td>10.0</td>\n",
       "      <td>0.2</td>\n",
       "      <td>1</td>\n",
       "      <td>0</td>\n",
       "    </tr>\n",
       "    <tr>\n",
       "      <th>8</th>\n",
       "      <td>4.4</td>\n",
       "      <td>2.9</td>\n",
       "      <td>1.4</td>\n",
       "      <td>0.2</td>\n",
       "      <td>0</td>\n",
       "      <td>0</td>\n",
       "    </tr>\n",
       "    <tr>\n",
       "      <th>9</th>\n",
       "      <td>4.9</td>\n",
       "      <td>3.1</td>\n",
       "      <td>1.5</td>\n",
       "      <td>0.1</td>\n",
       "      <td>0</td>\n",
       "      <td>0</td>\n",
       "    </tr>\n",
       "  </tbody>\n",
       "</table>\n",
       "</div>"
      ],
      "text/plain": [
       "   sepal length  sepal width  petal length  petal width  cluster_kmeans  \\\n",
       "0           5.1          3.5           1.4          0.2               0   \n",
       "1           4.9          3.0           1.4          0.2               0   \n",
       "2           4.7          3.2           1.3          0.2               0   \n",
       "3           4.6          3.1           1.5          0.2               0   \n",
       "4           5.0          3.6           1.4          0.2               0   \n",
       "5           5.4          3.9           1.7          0.4               0   \n",
       "6           4.6          3.4           1.4          0.3               0   \n",
       "7           5.0          3.4          10.0          0.2               1   \n",
       "8           4.4          2.9           1.4          0.2               0   \n",
       "9           4.9          3.1           1.5          0.1               0   \n",
       "\n",
       "   DT_class  \n",
       "0         0  \n",
       "1         0  \n",
       "2         0  \n",
       "3         0  \n",
       "4         0  \n",
       "5         0  \n",
       "6         0  \n",
       "7         0  \n",
       "8         0  \n",
       "9         0  "
      ]
     },
     "execution_count": 26,
     "metadata": {},
     "output_type": "execute_result"
    }
   ],
   "source": [
    "dataset_DT = dataset_KMeans\n",
    "dataset_DT[\"DT_class\"] = np.uint8(DT_classes)\n",
    "dataset_DT.head(10)"
   ]
  },
  {
   "cell_type": "markdown",
   "id": "b75c3cdb",
   "metadata": {
    "papermill": {
     "duration": 0.049972,
     "end_time": "2022-04-24T03:02:40.886366",
     "exception": false,
     "start_time": "2022-04-24T03:02:40.836394",
     "status": "completed"
    },
    "tags": []
   },
   "source": [
    "## Model evaluation (test set)"
   ]
  },
  {
   "cell_type": "code",
   "execution_count": 27,
   "id": "bdde7a1d",
   "metadata": {
    "execution": {
     "iopub.execute_input": "2022-04-24T03:02:40.993652Z",
     "iopub.status.busy": "2022-04-24T03:02:40.992906Z",
     "iopub.status.idle": "2022-04-24T03:02:41.000547Z",
     "shell.execute_reply": "2022-04-24T03:02:41.001132Z",
     "shell.execute_reply.started": "2022-04-24T02:49:43.563894Z"
    },
    "papermill": {
     "duration": 0.065702,
     "end_time": "2022-04-24T03:02:41.001366",
     "exception": false,
     "start_time": "2022-04-24T03:02:40.935664",
     "status": "completed"
    },
    "tags": []
   },
   "outputs": [
    {
     "name": "stdout",
     "output_type": "stream",
     "text": [
      "The average accuracy is: 94.9%.\n"
     ]
    }
   ],
   "source": [
    "DT_score = DT_model.score(X_test,Y_test)\n",
    "print(f\"The average accuracy is: {round(DT_score*100,1)}%.\")"
   ]
  },
  {
   "cell_type": "markdown",
   "id": "3a177f3a",
   "metadata": {
    "papermill": {
     "duration": 0.052909,
     "end_time": "2022-04-24T03:02:41.111855",
     "exception": false,
     "start_time": "2022-04-24T03:02:41.058946",
     "status": "completed"
    },
    "tags": []
   },
   "source": [
    "## Visualizing the decision tree :"
   ]
  },
  {
   "cell_type": "code",
   "execution_count": 28,
   "id": "282cf017",
   "metadata": {
    "execution": {
     "iopub.execute_input": "2022-04-24T03:02:41.221203Z",
     "iopub.status.busy": "2022-04-24T03:02:41.220152Z",
     "iopub.status.idle": "2022-04-24T03:02:41.226826Z",
     "shell.execute_reply": "2022-04-24T03:02:41.227618Z",
     "shell.execute_reply.started": "2022-04-24T02:49:43.641196Z"
    },
    "papermill": {
     "duration": 0.066565,
     "end_time": "2022-04-24T03:02:41.227856",
     "exception": false,
     "start_time": "2022-04-24T03:02:41.161291",
     "status": "completed"
    },
    "tags": []
   },
   "outputs": [
    {
     "name": "stdout",
     "output_type": "stream",
     "text": [
      "Columns names: ['sepal length' 'sepal width' 'petal length' 'petal width'] \n",
      "(Class column excluded)\n"
     ]
    }
   ],
   "source": [
    "# Get all the columns names expect the target class\n",
    "decision_tree_columns = dataset.columns.values[0:4]\n",
    "print(f\"Columns names: {decision_tree_columns} \\n(Class column excluded)\")"
   ]
  },
  {
   "cell_type": "code",
   "execution_count": 29,
   "id": "33353481",
   "metadata": {
    "execution": {
     "iopub.execute_input": "2022-04-24T03:02:41.339595Z",
     "iopub.status.busy": "2022-04-24T03:02:41.338852Z",
     "iopub.status.idle": "2022-04-24T03:02:41.694126Z",
     "shell.execute_reply": "2022-04-24T03:02:41.694615Z",
     "shell.execute_reply.started": "2022-04-24T03:01:56.243758Z"
    },
    "papermill": {
     "duration": 0.41454,
     "end_time": "2022-04-24T03:02:41.694795",
     "exception": false,
     "start_time": "2022-04-24T03:02:41.280255",
     "status": "completed"
    },
    "tags": []
   },
   "outputs": [
    {
     "data": {
      "image/png": "[encoded data removed]",
      "text/plain": [
       "<Figure size 432x288 with 1 Axes>"
      ]
     },
     "metadata": {
      "needs_background": "light"
     },
     "output_type": "display_data"
    }
   ],
   "source": [
    "# Create the figure\n",
    "fig = plt.figure(figsize=(6,4))\n",
    "\n",
    "# Create the visual\n",
    "ax = tree.plot_tree(DT_model,\n",
    "                    feature_names=decision_tree_columns, \n",
    "                    class_names=[\"0\",\"1\"], \n",
    "                    filled=True)\n",
    "\n",
    "plt.title(\"Visualizing the Decision Tree\\n\\nLeft=True, Right=False\")\n",
    "plt.show()"
   ]
  },
  {
   "cell_type": "markdown",
   "id": "2818c229",
   "metadata": {
    "execution": {
     "iopub.execute_input": "2021-08-13T03:25:11.131831Z",
     "iopub.status.busy": "2021-08-13T03:25:11.131255Z",
     "iopub.status.idle": "2021-08-13T03:25:11.137008Z",
     "shell.execute_reply": "2021-08-13T03:25:11.135709Z",
     "shell.execute_reply.started": "2021-08-13T03:25:11.131798Z"
    },
    "papermill": {
     "duration": 0.053603,
     "end_time": "2022-04-24T03:02:41.799813",
     "exception": false,
     "start_time": "2022-04-24T03:02:41.746210",
     "status": "completed"
    },
    "tags": []
   },
   "source": [
    "# Thank you for your time 😄"
   ]
  }
 ],
 "metadata": {
  "kernelspec": {
   "display_name": "Python 3",
   "language": "python",
   "name": "python3"
  },
  "language_info": {
   "codemirror_mode": {
    "name": "ipython",
    "version": 3
   },
   "file_extension": ".py",
   "mimetype": "text/x-python",
   "name": "python",
   "nbconvert_exporter": "python",
   "pygments_lexer": "ipython3",
   "version": "3.7.10"
  },
  "papermill": {
   "default_parameters": {},
   "duration": 19.837831,
   "end_time": "2022-04-24T03:02:42.664831",
   "environment_variables": {},
   "exception": null,
   "input_path": "__notebook__.ipynb",
   "output_path": "__notebook__.ipynb",
   "parameters": {},
   "start_time": "2022-04-24T03:02:22.827000",
   "version": "2.3.3"
  }
 },
 "nbformat": 4,
 "nbformat_minor": 5
}

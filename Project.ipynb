{
 "cells": [
  {
   "cell_type": "markdown",
   "id": "3cab8853-1ea3-4536-adf2-bb085fd119e3",
   "metadata": {},
   "source": [
    "<div style=\"text-align: right; font-size: large; width: 100%\" >\n",
    "    <b>\n",
    "        Ibrahim MOHAMED SEROUIS, <br>\n",
    "        2020-2021\n",
    "    </b>\n",
    "<div>\n",
    "<div>\n",
    "    <center><h1>Data Mining lab : Project </h1></center>\n",
    "</div>"
   ]
  },
  {
   "cell_type": "markdown",
   "id": "2df77d81-ac3b-408a-99f3-51a69e321902",
   "metadata": {},
   "source": [
    "<h1> Libraries </h1>"
   ]
  },
  {
   "cell_type": "code",
   "execution_count": 1,
   "id": "368647f5-7579-4e12-bdd8-ebf07b7902f1",
   "metadata": {},
   "outputs": [],
   "source": [
    "import pandas as pd \n",
    "import numpy as np \n",
    "import seaborn as sns\n",
    "import matplotlib.pyplot as plt\n",
    "from sklearn.cluster import KMeans\n",
    "from sklearn import tree\n",
    "from sklearn.model_selection import train_test_split"
   ]
  },
  {
   "cell_type": "markdown",
   "id": "428a70c4-3dd9-432c-bf03-6906141cf07d",
   "metadata": {},
   "source": [
    "<h1> Dataset import </h1>"
   ]
  },
  {
   "cell_type": "code",
   "execution_count": 2,
   "id": "203da9ca-6cea-4290-a31d-8e77fa323fe1",
   "metadata": {},
   "outputs": [
    {
     "data": {
      "text/html": [
       "<div>\n",
       "<style scoped>\n",
       "    .dataframe tbody tr th:only-of-type {\n",
       "        vertical-align: middle;\n",
       "    }\n",
       "\n",
       "    .dataframe tbody tr th {\n",
       "        vertical-align: top;\n",
       "    }\n",
       "\n",
       "    .dataframe thead th {\n",
       "        text-align: right;\n",
       "    }\n",
       "</style>\n",
       "<table border=\"1\" class=\"dataframe\">\n",
       "  <thead>\n",
       "    <tr style=\"text-align: right;\">\n",
       "      <th></th>\n",
       "      <th>sepal length</th>\n",
       "      <th>sepal width</th>\n",
       "      <th>petal length</th>\n",
       "      <th>petal width</th>\n",
       "      <th>class</th>\n",
       "    </tr>\n",
       "  </thead>\n",
       "  <tbody>\n",
       "    <tr>\n",
       "      <th>0</th>\n",
       "      <td>5.1</td>\n",
       "      <td>3.5</td>\n",
       "      <td>1.4</td>\n",
       "      <td>0.2</td>\n",
       "      <td>Iris-setosa</td>\n",
       "    </tr>\n",
       "    <tr>\n",
       "      <th>1</th>\n",
       "      <td>4.9</td>\n",
       "      <td>3.0</td>\n",
       "      <td>1.4</td>\n",
       "      <td>0.2</td>\n",
       "      <td>Iris-setosa</td>\n",
       "    </tr>\n",
       "    <tr>\n",
       "      <th>2</th>\n",
       "      <td>4.7</td>\n",
       "      <td>3.2</td>\n",
       "      <td>1.3</td>\n",
       "      <td>0.2</td>\n",
       "      <td>Iris-setosa</td>\n",
       "    </tr>\n",
       "    <tr>\n",
       "      <th>3</th>\n",
       "      <td>4.6</td>\n",
       "      <td>3.1</td>\n",
       "      <td>1.5</td>\n",
       "      <td>0.2</td>\n",
       "      <td>Iris-setosa</td>\n",
       "    </tr>\n",
       "    <tr>\n",
       "      <th>4</th>\n",
       "      <td>5.0</td>\n",
       "      <td>3.6</td>\n",
       "      <td>1.4</td>\n",
       "      <td>0.2</td>\n",
       "      <td>Iris-setosa</td>\n",
       "    </tr>\n",
       "  </tbody>\n",
       "</table>\n",
       "</div>"
      ],
      "text/plain": [
       "   sepal length  sepal width  petal length  petal width        class\n",
       "0           5.1          3.5           1.4          0.2  Iris-setosa\n",
       "1           4.9          3.0           1.4          0.2  Iris-setosa\n",
       "2           4.7          3.2           1.3          0.2  Iris-setosa\n",
       "3           4.6          3.1           1.5          0.2  Iris-setosa\n",
       "4           5.0          3.6           1.4          0.2  Iris-setosa"
      ]
     },
     "execution_count": 2,
     "metadata": {},
     "output_type": "execute_result"
    }
   ],
   "source": [
    "dataset = pd.read_csv(\"iris_data.csv\", header=None, names=[\"sepal length\",\"sepal width\",\"petal length\",\"petal width\",\"class\"])\n",
    "dataset.head()"
   ]
  },
  {
   "cell_type": "markdown",
   "id": "f6dc8740-7823-458a-bfc7-d3aab90ae701",
   "metadata": {},
   "source": [
    "<h1> Data cleaning </h1>"
   ]
  },
  {
   "cell_type": "markdown",
   "id": "91410400-fdff-4a3f-bf2e-3c2ba7f7c982",
   "metadata": {},
   "source": [
    "<h2> Checking for blank values </h2>"
   ]
  },
  {
   "cell_type": "markdown",
   "id": "b2ab81ff-1cce-4a10-8d94-e6f70915df50",
   "metadata": {},
   "source": [
    "<h3> Sepal length </h3>"
   ]
  },
  {
   "cell_type": "code",
   "execution_count": 3,
   "id": "0a925d44-54ab-4f84-907b-e572ae57bd9c",
   "metadata": {},
   "outputs": [
    {
     "name": "stdout",
     "output_type": "stream",
     "text": [
      "Number of missing sepal lengths:  3\n"
     ]
    }
   ],
   "source": [
    "null_sl = dataset[\"sepal length\"].isnull().sum()\n",
    "print(\"Number of missing sepal lengths: \", null_sl)"
   ]
  },
  {
   "cell_type": "markdown",
   "id": "6e87778d-aac2-4fec-aaf5-43a3e9770081",
   "metadata": {},
   "source": [
    "<h3> Sepal width </h3>"
   ]
  },
  {
   "cell_type": "code",
   "execution_count": 4,
   "id": "a5716204-50b3-4d9d-9128-c0b2919c9091",
   "metadata": {},
   "outputs": [
    {
     "name": "stdout",
     "output_type": "stream",
     "text": [
      "Number of missing sepal widths:  3\n"
     ]
    }
   ],
   "source": [
    "null_sw = dataset[\"sepal width\"].isnull().sum()\n",
    "print(\"Number of missing sepal widths: \", null_sw)"
   ]
  },
  {
   "cell_type": "markdown",
   "id": "ef918ee5-a078-4255-822b-398fabdf4382",
   "metadata": {},
   "source": [
    "<h3> Petal length </h3>"
   ]
  },
  {
   "cell_type": "code",
   "execution_count": 5,
   "id": "d13571ce-48fb-46ad-9d33-31dcd8d7e0cd",
   "metadata": {},
   "outputs": [
    {
     "name": "stdout",
     "output_type": "stream",
     "text": [
      "Number of missing petal lengths:  3\n"
     ]
    }
   ],
   "source": [
    "null_pl = dataset[\"petal length\"].isnull().sum()\n",
    "print(\"Number of missing petal lengths: \", null_pl)"
   ]
  },
  {
   "cell_type": "markdown",
   "id": "80dfbbd3-38bf-443b-bf35-476f1cb6e27e",
   "metadata": {},
   "source": [
    "<h3> Petal width </h3>"
   ]
  },
  {
   "cell_type": "code",
   "execution_count": 6,
   "id": "dace5e71-7a6d-4784-af0c-fb375aaea24b",
   "metadata": {},
   "outputs": [
    {
     "name": "stdout",
     "output_type": "stream",
     "text": [
      "Number of missing petal widths:  2\n"
     ]
    }
   ],
   "source": [
    "null_pw = dataset[\"petal width\"].isnull().sum()\n",
    "print(\"Number of missing petal widths: \", null_pw)"
   ]
  },
  {
   "cell_type": "markdown",
   "id": "4fe579b9-8886-4baf-b482-7d1b9b8bf53d",
   "metadata": {},
   "source": [
    "<h3> Classes </h3>"
   ]
  },
  {
   "cell_type": "code",
   "execution_count": 7,
   "id": "2ba2986c-ef4e-41f8-8e51-a8aa6ce83171",
   "metadata": {},
   "outputs": [
    {
     "name": "stdout",
     "output_type": "stream",
     "text": [
      "Number of missing classes:  3\n"
     ]
    }
   ],
   "source": [
    "null_classes = dataset[\"class\"].isnull().sum()\n",
    "print(\"Number of missing classes: \", null_classes)"
   ]
  },
  {
   "cell_type": "markdown",
   "id": "55b29ad1-82cb-4c35-9346-0a0fdba4206e",
   "metadata": {},
   "source": [
    "<h2> Calculating means (Numeric fields) </h2>"
   ]
  },
  {
   "cell_type": "code",
   "execution_count": 8,
   "id": "8ba4fbaf-9f0d-4246-bf83-3ec11714444e",
   "metadata": {},
   "outputs": [
    {
     "name": "stdout",
     "output_type": "stream",
     "text": [
      "Mean values for the respective fields: \n",
      "Sepal length: 5.908843537414968\n",
      "Sepal width: 3.138775510204083\n",
      "Petal length: 3.8367346938775535\n",
      "Petal width: 1.197297297297298\n"
     ]
    }
   ],
   "source": [
    "sl_means = np.mean(dataset[\"sepal length\"])\n",
    "sw_means = np.mean(dataset[\"sepal width\"])\n",
    "pl_means = np.mean(dataset[\"petal length\"])\n",
    "pw_means = np.mean(dataset[\"petal width\"])\n",
    "print(f\"Mean values for the respective fields: \\nSepal length: {sl_means}\\nSepal width: {sw_means}\\nPetal length: {pl_means}\\nPetal width: {pw_means}\")"
   ]
  },
  {
   "cell_type": "markdown",
   "id": "47fb279d-49b5-4da1-b7cd-540263e65f0b",
   "metadata": {},
   "source": [
    "<h2> Replacing null values by the mean (Numeric fields) </h2>"
   ]
  },
  {
   "cell_type": "code",
   "execution_count": 9,
   "id": "a3110f34-dff0-43b7-acbe-34d07ead26e1",
   "metadata": {},
   "outputs": [],
   "source": [
    "dataset.loc[dataset[\"sepal length\"].isnull(),\"sepal length\"] = round(sl_means,1)\n",
    "dataset.loc[dataset[\"sepal width\"].isnull(),\"sepal width\"] = round(sw_means,1)\n",
    "dataset.loc[dataset[\"petal length\"].isnull(),\"petal length\"] = round(pl_means,1)\n",
    "dataset.loc[dataset[\"petal width\"].isnull(),\"petal width\"] = round(pw_means,1)"
   ]
  },
  {
   "cell_type": "markdown",
   "id": "01dd6d84-8767-4580-8d1d-c7de75c45b3e",
   "metadata": {},
   "source": [
    "<h3> Results : </h3>"
   ]
  },
  {
   "cell_type": "code",
   "execution_count": 10,
   "id": "26d2383b-d31a-40cd-99dd-1307f31d4688",
   "metadata": {},
   "outputs": [
    {
     "data": {
      "text/plain": [
       "sepal length    0\n",
       "sepal width     0\n",
       "petal length    0\n",
       "petal width     0\n",
       "class           3\n",
       "dtype: int64"
      ]
     },
     "execution_count": 10,
     "metadata": {},
     "output_type": "execute_result"
    }
   ],
   "source": [
    "dataset.isnull().sum()"
   ]
  },
  {
   "cell_type": "markdown",
   "id": "3323a525-863f-4c22-8d59-bc9da0f03bba",
   "metadata": {},
   "source": [
    "<h2> Discarding rows with a missing target value </h2>"
   ]
  },
  {
   "cell_type": "code",
   "execution_count": 11,
   "id": "31ed2173-f886-4d9e-938c-8b98fba54a8d",
   "metadata": {},
   "outputs": [],
   "source": [
    "dataset = dataset.dropna()"
   ]
  },
  {
   "cell_type": "markdown",
   "id": "bc8e2231-2b8c-4c16-bbbd-110ac6df0dca",
   "metadata": {},
   "source": [
    "<h3> Results :  </h3>"
   ]
  },
  {
   "cell_type": "code",
   "execution_count": 12,
   "id": "8e3b1999-33e0-47b1-8d12-70dcd1854f66",
   "metadata": {},
   "outputs": [
    {
     "data": {
      "text/plain": [
       "sepal length    0\n",
       "sepal width     0\n",
       "petal length    0\n",
       "petal width     0\n",
       "class           0\n",
       "dtype: int64"
      ]
     },
     "execution_count": 12,
     "metadata": {},
     "output_type": "execute_result"
    }
   ],
   "source": [
    "dataset.isnull().sum()"
   ]
  },
  {
   "cell_type": "markdown",
   "id": "f969bdca-ad5a-4e34-a58c-0da97d9b9968",
   "metadata": {},
   "source": [
    "<h2> Saving the new dataset (optional) </h2>"
   ]
  },
  {
   "cell_type": "code",
   "execution_count": 13,
   "id": "ae8344be-7ffc-4312-adcd-ae111c92ecda",
   "metadata": {},
   "outputs": [],
   "source": [
    "dataset.to_csv(\"cleaned_dataset.csv\", index=False)"
   ]
  },
  {
   "cell_type": "markdown",
   "id": "4f019603-957f-48d1-a954-bf3742df7e7f",
   "metadata": {},
   "source": [
    "<h1> KMeans </h1>"
   ]
  },
  {
   "cell_type": "markdown",
   "id": "7c200d44-b417-4367-bdb6-fb8fcb6ce329",
   "metadata": {},
   "source": [
    "<h2> Constructing the dataset </h2>"
   ]
  },
  {
   "cell_type": "code",
   "execution_count": 14,
   "id": "35b20c9a-6ee8-4a9b-9761-7e09bf45a29f",
   "metadata": {},
   "outputs": [
    {
     "data": {
      "text/html": [
       "<div>\n",
       "<style scoped>\n",
       "    .dataframe tbody tr th:only-of-type {\n",
       "        vertical-align: middle;\n",
       "    }\n",
       "\n",
       "    .dataframe tbody tr th {\n",
       "        vertical-align: top;\n",
       "    }\n",
       "\n",
       "    .dataframe thead th {\n",
       "        text-align: right;\n",
       "    }\n",
       "</style>\n",
       "<table border=\"1\" class=\"dataframe\">\n",
       "  <thead>\n",
       "    <tr style=\"text-align: right;\">\n",
       "      <th></th>\n",
       "      <th>sepal length</th>\n",
       "      <th>sepal width</th>\n",
       "      <th>petal length</th>\n",
       "      <th>petal width</th>\n",
       "    </tr>\n",
       "  </thead>\n",
       "  <tbody>\n",
       "    <tr>\n",
       "      <th>0</th>\n",
       "      <td>5.1</td>\n",
       "      <td>3.5</td>\n",
       "      <td>1.4</td>\n",
       "      <td>0.2</td>\n",
       "    </tr>\n",
       "    <tr>\n",
       "      <th>1</th>\n",
       "      <td>4.9</td>\n",
       "      <td>3.0</td>\n",
       "      <td>1.4</td>\n",
       "      <td>0.2</td>\n",
       "    </tr>\n",
       "    <tr>\n",
       "      <th>2</th>\n",
       "      <td>4.7</td>\n",
       "      <td>3.2</td>\n",
       "      <td>1.3</td>\n",
       "      <td>0.2</td>\n",
       "    </tr>\n",
       "    <tr>\n",
       "      <th>3</th>\n",
       "      <td>4.6</td>\n",
       "      <td>3.1</td>\n",
       "      <td>1.5</td>\n",
       "      <td>0.2</td>\n",
       "    </tr>\n",
       "    <tr>\n",
       "      <th>4</th>\n",
       "      <td>5.0</td>\n",
       "      <td>3.6</td>\n",
       "      <td>1.4</td>\n",
       "      <td>0.2</td>\n",
       "    </tr>\n",
       "  </tbody>\n",
       "</table>\n",
       "</div>"
      ],
      "text/plain": [
       "   sepal length  sepal width  petal length  petal width\n",
       "0           5.1          3.5           1.4          0.2\n",
       "1           4.9          3.0           1.4          0.2\n",
       "2           4.7          3.2           1.3          0.2\n",
       "3           4.6          3.1           1.5          0.2\n",
       "4           5.0          3.6           1.4          0.2"
      ]
     },
     "execution_count": 14,
     "metadata": {},
     "output_type": "execute_result"
    }
   ],
   "source": [
    "dataset_KMeans = dataset.drop(columns=[\"class\"])\n",
    "dataset_KMeans.head()"
   ]
  },
  {
   "cell_type": "markdown",
   "id": "d9a6b0cf-a8cc-4308-ae8b-d0879dafcd30",
   "metadata": {},
   "source": [
    "<h2> Model </h2>"
   ]
  },
  {
   "cell_type": "markdown",
   "id": "a2fb7ebb-6152-470c-b690-6c3f3004c630",
   "metadata": {},
   "source": [
    "<h3> Building (2 clusters gave us the best model) </h3>"
   ]
  },
  {
   "cell_type": "code",
   "execution_count": 15,
   "id": "c4f83c4e-c4ad-454d-9a37-4b7367669d57",
   "metadata": {},
   "outputs": [],
   "source": [
    "kmeans_model = KMeans(n_clusters=2, random_state=0, verbose=0).fit(dataset_KMeans)"
   ]
  },
  {
   "cell_type": "markdown",
   "id": "da9c16ff-bdc0-4ed4-8d6f-79095ca029b0",
   "metadata": {},
   "source": [
    "<h3>Getting the labels</h3>"
   ]
  },
  {
   "cell_type": "code",
   "execution_count": 16,
   "id": "2e2c8ba1-38bf-47a8-8e9f-9d208ce2f2ff",
   "metadata": {},
   "outputs": [],
   "source": [
    "labels = kmeans_model.labels_"
   ]
  },
  {
   "cell_type": "markdown",
   "id": "16912d09-b2cf-4d70-b3eb-eb4d50bff3b6",
   "metadata": {},
   "source": [
    "<h3> Assigning the labels to our dataset </h3>"
   ]
  },
  {
   "cell_type": "code",
   "execution_count": 17,
   "id": "d234e58b-e243-451a-a8be-36bbb651eb0a",
   "metadata": {},
   "outputs": [
    {
     "data": {
      "text/html": [
       "<div>\n",
       "<style scoped>\n",
       "    .dataframe tbody tr th:only-of-type {\n",
       "        vertical-align: middle;\n",
       "    }\n",
       "\n",
       "    .dataframe tbody tr th {\n",
       "        vertical-align: top;\n",
       "    }\n",
       "\n",
       "    .dataframe thead th {\n",
       "        text-align: right;\n",
       "    }\n",
       "</style>\n",
       "<table border=\"1\" class=\"dataframe\">\n",
       "  <thead>\n",
       "    <tr style=\"text-align: right;\">\n",
       "      <th></th>\n",
       "      <th>sepal length</th>\n",
       "      <th>sepal width</th>\n",
       "      <th>petal length</th>\n",
       "      <th>petal width</th>\n",
       "      <th>Cluster_KMeans</th>\n",
       "    </tr>\n",
       "  </thead>\n",
       "  <tbody>\n",
       "    <tr>\n",
       "      <th>0</th>\n",
       "      <td>5.1</td>\n",
       "      <td>3.5</td>\n",
       "      <td>1.4</td>\n",
       "      <td>0.2</td>\n",
       "      <td>0</td>\n",
       "    </tr>\n",
       "    <tr>\n",
       "      <th>1</th>\n",
       "      <td>4.9</td>\n",
       "      <td>3.0</td>\n",
       "      <td>1.4</td>\n",
       "      <td>0.2</td>\n",
       "      <td>0</td>\n",
       "    </tr>\n",
       "    <tr>\n",
       "      <th>2</th>\n",
       "      <td>4.7</td>\n",
       "      <td>3.2</td>\n",
       "      <td>1.3</td>\n",
       "      <td>0.2</td>\n",
       "      <td>0</td>\n",
       "    </tr>\n",
       "    <tr>\n",
       "      <th>3</th>\n",
       "      <td>4.6</td>\n",
       "      <td>3.1</td>\n",
       "      <td>1.5</td>\n",
       "      <td>0.2</td>\n",
       "      <td>0</td>\n",
       "    </tr>\n",
       "    <tr>\n",
       "      <th>4</th>\n",
       "      <td>5.0</td>\n",
       "      <td>3.6</td>\n",
       "      <td>1.4</td>\n",
       "      <td>0.2</td>\n",
       "      <td>0</td>\n",
       "    </tr>\n",
       "    <tr>\n",
       "      <th>5</th>\n",
       "      <td>5.4</td>\n",
       "      <td>3.9</td>\n",
       "      <td>1.7</td>\n",
       "      <td>0.4</td>\n",
       "      <td>0</td>\n",
       "    </tr>\n",
       "    <tr>\n",
       "      <th>6</th>\n",
       "      <td>4.6</td>\n",
       "      <td>3.4</td>\n",
       "      <td>1.4</td>\n",
       "      <td>0.3</td>\n",
       "      <td>0</td>\n",
       "    </tr>\n",
       "    <tr>\n",
       "      <th>7</th>\n",
       "      <td>5.0</td>\n",
       "      <td>3.4</td>\n",
       "      <td>10.0</td>\n",
       "      <td>0.2</td>\n",
       "      <td>1</td>\n",
       "    </tr>\n",
       "    <tr>\n",
       "      <th>8</th>\n",
       "      <td>4.4</td>\n",
       "      <td>2.9</td>\n",
       "      <td>1.4</td>\n",
       "      <td>0.2</td>\n",
       "      <td>0</td>\n",
       "    </tr>\n",
       "    <tr>\n",
       "      <th>9</th>\n",
       "      <td>4.9</td>\n",
       "      <td>3.1</td>\n",
       "      <td>1.5</td>\n",
       "      <td>0.1</td>\n",
       "      <td>0</td>\n",
       "    </tr>\n",
       "  </tbody>\n",
       "</table>\n",
       "</div>"
      ],
      "text/plain": [
       "   sepal length  sepal width  petal length  petal width  Cluster_KMeans\n",
       "0           5.1          3.5           1.4          0.2               0\n",
       "1           4.9          3.0           1.4          0.2               0\n",
       "2           4.7          3.2           1.3          0.2               0\n",
       "3           4.6          3.1           1.5          0.2               0\n",
       "4           5.0          3.6           1.4          0.2               0\n",
       "5           5.4          3.9           1.7          0.4               0\n",
       "6           4.6          3.4           1.4          0.3               0\n",
       "7           5.0          3.4          10.0          0.2               1\n",
       "8           4.4          2.9           1.4          0.2               0\n",
       "9           4.9          3.1           1.5          0.1               0"
      ]
     },
     "execution_count": 17,
     "metadata": {},
     "output_type": "execute_result"
    }
   ],
   "source": [
    "dataset_KMeans[\"Cluster_KMeans\"] = labels \n",
    "dataset_KMeans.head(10)"
   ]
  },
  {
   "cell_type": "markdown",
   "id": "9f742825-3d67-4a8d-b511-c7725a2847d9",
   "metadata": {},
   "source": [
    "<h3> Visualizing the results </h3>"
   ]
  },
  {
   "cell_type": "code",
   "execution_count": 18,
   "id": "b67a4f41-aa3e-41c6-ba8a-3258025213bc",
   "metadata": {},
   "outputs": [
    {
     "data": {
      "image/png": "[encoded data removed]",
      "text/plain": [
       "<Figure size 432x288 with 1 Axes>"
      ]
     },
     "metadata": {
      "needs_background": "light"
     },
     "output_type": "display_data"
    }
   ],
   "source": [
    "plt.figure(figsize=(6,4))\n",
    "plt.title(\"Visualizing KMeans\")\n",
    "plt.xlabel(\"Sepal length\")\n",
    "plt.ylabel(\"Sepal width\")\n",
    "plt.scatter(dataset_KMeans.to_numpy()[:,0],dataset_KMeans.to_numpy()[:,1],cmap=plt.get_cmap(\"winter\"), c=labels)\n",
    "plt.show()"
   ]
  },
  {
   "cell_type": "code",
   "execution_count": 19,
   "id": "cf099729-543c-4930-a48d-676a95525ca0",
   "metadata": {},
   "outputs": [
    {
     "data": {
      "image/png": "[encoded data removed]",
      "text/plain": [
       "<Figure size 432x360 with 1 Axes>"
      ]
     },
     "metadata": {
      "needs_background": "light"
     },
     "output_type": "display_data"
    }
   ],
   "source": [
    "from mpl_toolkits.mplot3d import Axes3D\n",
    "fig = plt.figure(1,figsize=(6,5))\n",
    "plt.clf()\n",
    "ax = Axes3D(fig, rect=[0, 0, .95, 1], elev=25, azim=130)\n",
    "\n",
    "plt.cla()\n",
    "ax.set_xlabel(\"Sepal length\")\n",
    "ax.set_ylabel(\"Sepal width\")\n",
    "ax.set_zlabel(\"Petal area\")\n",
    "\n",
    "ax.scatter(dataset_KMeans.to_numpy()[:,0], dataset_KMeans.to_numpy()[:,1], dataset_KMeans.to_numpy()[:,2]*dataset_KMeans.to_numpy()[:,3],\\\n",
    "           cmap=plt.get_cmap(\"winter\"), c=labels)\n",
    "plt.title(\"3D Visualization\")\n",
    "plt.show()"
   ]
  },
  {
   "cell_type": "markdown",
   "id": "7a361cd6-c516-4d5b-a0e1-546f07030691",
   "metadata": {},
   "source": [
    "<h1> Decision Tree </h1>"
   ]
  },
  {
   "cell_type": "markdown",
   "id": "d3610d1c-4621-4966-a015-84f1a670b4a9",
   "metadata": {},
   "source": [
    "<h2> Defining X (input) and Y (target) </h2>"
   ]
  },
  {
   "cell_type": "markdown",
   "id": "dcdab5c3-81b6-4896-aaf2-600d3a3ee4f4",
   "metadata": {},
   "source": [
    "<h3> X </h3>"
   ]
  },
  {
   "cell_type": "code",
   "execution_count": 20,
   "id": "bc2a74f9-d946-4ce5-88b8-dc748a8eefa2",
   "metadata": {},
   "outputs": [
    {
     "data": {
      "text/plain": [
       "array([[5.1, 3.5, 1.4, 0.2],\n",
       "       [4.9, 3. , 1.4, 0.2],\n",
       "       [4.7, 3.2, 1.3, 0.2],\n",
       "       [4.6, 3.1, 1.5, 0.2],\n",
       "       [5. , 3.6, 1.4, 0.2]])"
      ]
     },
     "execution_count": 20,
     "metadata": {},
     "output_type": "execute_result"
    }
   ],
   "source": [
    "X = dataset_KMeans.to_numpy()[:,0:4]\n",
    "X[0:5,:]"
   ]
  },
  {
   "cell_type": "markdown",
   "id": "e9e0e966-32fe-47a8-aade-e94d33ec690c",
   "metadata": {},
   "source": [
    "<h3> Y </h3>"
   ]
  },
  {
   "cell_type": "code",
   "execution_count": 21,
   "id": "c419900d-de66-40eb-8d3f-374aafbe0686",
   "metadata": {},
   "outputs": [
    {
     "data": {
      "text/plain": [
       "array([0., 0., 0., 0., 0., 0., 0., 1., 0., 0.])"
      ]
     },
     "execution_count": 21,
     "metadata": {},
     "output_type": "execute_result"
    }
   ],
   "source": [
    "Y = dataset_KMeans.to_numpy()[:,4]\n",
    "Y[0:10]"
   ]
  },
  {
   "cell_type": "markdown",
   "id": "1b2a450b-9284-4cbb-9499-9bafaf49ab67",
   "metadata": {},
   "source": [
    "<h2> Train/test split </h2>"
   ]
  },
  {
   "cell_type": "code",
   "execution_count": 22,
   "id": "200fb605-e3d6-486d-bf45-adee29a397dc",
   "metadata": {},
   "outputs": [],
   "source": [
    "X_train, X_test, Y_train, Y_test = train_test_split(X, Y, test_size=0.4, random_state=0)"
   ]
  },
  {
   "cell_type": "markdown",
   "id": "27fc139b-c76c-4198-a63b-a6750d3b17ba",
   "metadata": {},
   "source": [
    "<h2> Applying the Decision Tree </h2>"
   ]
  },
  {
   "cell_type": "markdown",
   "id": "e94c2699-5471-4694-bd37-bbc706e711df",
   "metadata": {},
   "source": [
    "<h3> Fitting the model (training set) </h3>"
   ]
  },
  {
   "cell_type": "code",
   "execution_count": 23,
   "id": "bbb9206c-8fc3-48fc-88e2-8c384cdd51be",
   "metadata": {},
   "outputs": [],
   "source": [
    "DT_model = tree.DecisionTreeClassifier(random_state=0).fit(X_train,Y_train)"
   ]
  },
  {
   "cell_type": "markdown",
   "id": "10025c5b-ad63-4add-8778-6b7212384fc4",
   "metadata": {},
   "source": [
    "<h3> Predict the results </h3>"
   ]
  },
  {
   "cell_type": "code",
   "execution_count": 24,
   "id": "9663d5df-9eb5-468d-9295-b2fc27213549",
   "metadata": {},
   "outputs": [],
   "source": [
    "DT_classes = DT_model.predict(X)"
   ]
  },
  {
   "cell_type": "markdown",
   "id": "fdd17478-356a-4c68-a7c5-bd8ff1c33d9d",
   "metadata": {},
   "source": [
    "<h3> Displaying the results </h3>"
   ]
  },
  {
   "cell_type": "code",
   "execution_count": 25,
   "id": "215050a2-82df-44eb-b305-77e16ea4927b",
   "metadata": {},
   "outputs": [
    {
     "data": {
      "text/html": [
       "<div>\n",
       "<style scoped>\n",
       "    .dataframe tbody tr th:only-of-type {\n",
       "        vertical-align: middle;\n",
       "    }\n",
       "\n",
       "    .dataframe tbody tr th {\n",
       "        vertical-align: top;\n",
       "    }\n",
       "\n",
       "    .dataframe thead th {\n",
       "        text-align: right;\n",
       "    }\n",
       "</style>\n",
       "<table border=\"1\" class=\"dataframe\">\n",
       "  <thead>\n",
       "    <tr style=\"text-align: right;\">\n",
       "      <th></th>\n",
       "      <th>sepal length</th>\n",
       "      <th>sepal width</th>\n",
       "      <th>petal length</th>\n",
       "      <th>petal width</th>\n",
       "      <th>Cluster_KMeans</th>\n",
       "      <th>DT_class</th>\n",
       "    </tr>\n",
       "  </thead>\n",
       "  <tbody>\n",
       "    <tr>\n",
       "      <th>0</th>\n",
       "      <td>5.1</td>\n",
       "      <td>3.5</td>\n",
       "      <td>1.4</td>\n",
       "      <td>0.2</td>\n",
       "      <td>0</td>\n",
       "      <td>0</td>\n",
       "    </tr>\n",
       "    <tr>\n",
       "      <th>1</th>\n",
       "      <td>4.9</td>\n",
       "      <td>3.0</td>\n",
       "      <td>1.4</td>\n",
       "      <td>0.2</td>\n",
       "      <td>0</td>\n",
       "      <td>0</td>\n",
       "    </tr>\n",
       "    <tr>\n",
       "      <th>2</th>\n",
       "      <td>4.7</td>\n",
       "      <td>3.2</td>\n",
       "      <td>1.3</td>\n",
       "      <td>0.2</td>\n",
       "      <td>0</td>\n",
       "      <td>0</td>\n",
       "    </tr>\n",
       "    <tr>\n",
       "      <th>3</th>\n",
       "      <td>4.6</td>\n",
       "      <td>3.1</td>\n",
       "      <td>1.5</td>\n",
       "      <td>0.2</td>\n",
       "      <td>0</td>\n",
       "      <td>0</td>\n",
       "    </tr>\n",
       "    <tr>\n",
       "      <th>4</th>\n",
       "      <td>5.0</td>\n",
       "      <td>3.6</td>\n",
       "      <td>1.4</td>\n",
       "      <td>0.2</td>\n",
       "      <td>0</td>\n",
       "      <td>0</td>\n",
       "    </tr>\n",
       "    <tr>\n",
       "      <th>5</th>\n",
       "      <td>5.4</td>\n",
       "      <td>3.9</td>\n",
       "      <td>1.7</td>\n",
       "      <td>0.4</td>\n",
       "      <td>0</td>\n",
       "      <td>0</td>\n",
       "    </tr>\n",
       "    <tr>\n",
       "      <th>6</th>\n",
       "      <td>4.6</td>\n",
       "      <td>3.4</td>\n",
       "      <td>1.4</td>\n",
       "      <td>0.3</td>\n",
       "      <td>0</td>\n",
       "      <td>0</td>\n",
       "    </tr>\n",
       "    <tr>\n",
       "      <th>7</th>\n",
       "      <td>5.0</td>\n",
       "      <td>3.4</td>\n",
       "      <td>10.0</td>\n",
       "      <td>0.2</td>\n",
       "      <td>1</td>\n",
       "      <td>0</td>\n",
       "    </tr>\n",
       "    <tr>\n",
       "      <th>8</th>\n",
       "      <td>4.4</td>\n",
       "      <td>2.9</td>\n",
       "      <td>1.4</td>\n",
       "      <td>0.2</td>\n",
       "      <td>0</td>\n",
       "      <td>0</td>\n",
       "    </tr>\n",
       "    <tr>\n",
       "      <th>9</th>\n",
       "      <td>4.9</td>\n",
       "      <td>3.1</td>\n",
       "      <td>1.5</td>\n",
       "      <td>0.1</td>\n",
       "      <td>0</td>\n",
       "      <td>0</td>\n",
       "    </tr>\n",
       "  </tbody>\n",
       "</table>\n",
       "</div>"
      ],
      "text/plain": [
       "   sepal length  sepal width  petal length  petal width  Cluster_KMeans  \\\n",
       "0           5.1          3.5           1.4          0.2               0   \n",
       "1           4.9          3.0           1.4          0.2               0   \n",
       "2           4.7          3.2           1.3          0.2               0   \n",
       "3           4.6          3.1           1.5          0.2               0   \n",
       "4           5.0          3.6           1.4          0.2               0   \n",
       "5           5.4          3.9           1.7          0.4               0   \n",
       "6           4.6          3.4           1.4          0.3               0   \n",
       "7           5.0          3.4          10.0          0.2               1   \n",
       "8           4.4          2.9           1.4          0.2               0   \n",
       "9           4.9          3.1           1.5          0.1               0   \n",
       "\n",
       "   DT_class  \n",
       "0         0  \n",
       "1         0  \n",
       "2         0  \n",
       "3         0  \n",
       "4         0  \n",
       "5         0  \n",
       "6         0  \n",
       "7         0  \n",
       "8         0  \n",
       "9         0  "
      ]
     },
     "execution_count": 25,
     "metadata": {},
     "output_type": "execute_result"
    }
   ],
   "source": [
    "dataset_DT = dataset_KMeans\n",
    "dataset_DT[\"DT_class\"] = np.int16(DT_classes)\n",
    "dataset_DT.head(10)"
   ]
  },
  {
   "cell_type": "markdown",
   "id": "13f5ae79-e7d2-4885-81f6-ecda4ac7948c",
   "metadata": {},
   "source": [
    "<h2> Model evaluation (test set) </h2>"
   ]
  },
  {
   "cell_type": "code",
   "execution_count": 26,
   "id": "990f1647-8503-4e91-a08a-ccadac4f1f67",
   "metadata": {},
   "outputs": [
    {
     "name": "stdout",
     "output_type": "stream",
     "text": [
      "The average accuracy is:  94.9 %.\n"
     ]
    }
   ],
   "source": [
    "DT_score = DT_model.score(X_test,Y_test)\n",
    "print(\"The average accuracy is: \", round(DT_score*100,1), \"%.\")"
   ]
  },
  {
   "cell_type": "markdown",
   "id": "c7c9722a-7bcc-4633-85d3-192d901503a3",
   "metadata": {},
   "source": [
    "<h2> Visualizing th decision tree : </h2>"
   ]
  },
  {
   "cell_type": "code",
   "execution_count": 27,
   "id": "1668f2c3-088b-48f9-89b2-1f1e13a604fa",
   "metadata": {},
   "outputs": [
    {
     "name": "stdout",
     "output_type": "stream",
     "text": [
      "Columns names: ['sepal length' 'sepal width' 'petal length' 'petal width'] \n",
      "(Class column excluded)\n"
     ]
    }
   ],
   "source": [
    "print(f\"Columns names: {dataset.columns.values[0:4]} \\n(Class column excluded)\")"
   ]
  },
  {
   "cell_type": "code",
   "execution_count": 28,
   "id": "3a52fe38-f835-4cf5-b8d5-81e5387b03dd",
   "metadata": {},
   "outputs": [
    {
     "data": {
      "image/png": "[encoded data removed]",
      "text/plain": [
       "<Figure size 432x288 with 1 Axes>"
      ]
     },
     "metadata": {
      "needs_background": "light"
     },
     "output_type": "display_data"
    }
   ],
   "source": [
    "fig = plt.figure(figsize=(6,4))\n",
    "ax = tree.plot_tree(DT_model,feature_names=dataset.columns.values[0:4], class_names=[\"0\",\"1\"], filled=True)\n",
    "plt.title(\"Visualizing the Decision Tree\")\n",
    "plt.show()"
   ]
  },
  {
   "cell_type": "markdown",
   "id": "467666af-3960-4eac-b331-38ebba6a4bb4",
   "metadata": {},
   "source": [
    "<h1> End </h1>"
   ]
  }
 ],
 "metadata": {
  "kernelspec": {
   "display_name": "Python 3",
   "language": "python",
   "name": "python3"
  },
  "language_info": {
   "codemirror_mode": {
    "name": "ipython",
    "version": 3
   },
   "file_extension": ".py",
   "mimetype": "text/x-python",
   "name": "python",
   "nbconvert_exporter": "python",
   "pygments_lexer": "ipython3",
   "version": "3.8.8"
  }
 },
 "nbformat": 4,
 "nbformat_minor": 5
}
